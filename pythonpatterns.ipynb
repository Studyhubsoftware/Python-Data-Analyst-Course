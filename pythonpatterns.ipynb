{
 "cells": [
  {
   "cell_type": "code",
   "execution_count": 15,
   "metadata": {},
   "outputs": [
    {
     "name": "stdout",
     "output_type": "stream",
     "text": [
      "s\n",
      "\n",
      "ss\n",
      "\n",
      "sss\n",
      "\n",
      "ssss\n",
      "\n",
      "sssss\n",
      "\n"
     ]
    }
   ],
   "source": [
    "for i  in range(5):\n",
    "    for j in range(i+ 1):\n",
    "     print(\"s\", end = \"\")\n",
    "    print()"
   ]
  },
  {
   "cell_type": "code",
   "execution_count": 27,
   "metadata": {},
   "outputs": [
    {
     "name": "stdout",
     "output_type": "stream",
     "text": [
      "*\n",
      "*\n",
      "*\n",
      "*\n",
      "*\n",
      "**\n",
      "**\n",
      "**\n",
      "**\n",
      "**\n",
      "***\n",
      "***\n",
      "***\n",
      "***\n",
      "***\n",
      "****\n",
      "****\n",
      "****\n",
      "****\n",
      "****\n",
      "*****\n",
      "*****\n",
      "*****\n",
      "*****\n",
      "*****\n"
     ]
    }
   ],
   "source": [
    "for i in range(5):\n",
    "    for s in range (-6,-1):\n",
    "        print(\"\",end = \"\")\n",
    "        for j in range(i + 1):\n",
    "          print(\"*\", end=\"\")\n",
    "        print()"
   ]
  }
 ],
 "metadata": {
  "kernelspec": {
   "display_name": "Python 3",
   "language": "python",
   "name": "python3"
  },
  "language_info": {
   "codemirror_mode": {
    "name": "ipython",
    "version": 3
   },
   "file_extension": ".py",
   "mimetype": "text/x-python",
   "name": "python",
   "nbconvert_exporter": "python",
   "pygments_lexer": "ipython3",
   "version": "3.11.0 (main, Oct 24 2022, 18:26:48) [MSC v.1933 64 bit (AMD64)]"
  },
  "orig_nbformat": 4,
  "vscode": {
   "interpreter": {
    "hash": "5238573367df39f7286bb46f9ff5f08f63a01a80960060ce41e3c79b190280fa"
   }
  }
 },
 "nbformat": 4,
 "nbformat_minor": 2
}
