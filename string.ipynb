{
 "cells": [
  {
   "attachments": {},
   "cell_type": "markdown",
   "metadata": {},
   "source": [
    "\n",
    "# Basics\n"
   ]
  },
  {
   "cell_type": "code",
   "execution_count": 61,
   "metadata": {},
   "outputs": [
    {
     "name": "stdout",
     "output_type": "stream",
     "text": [
      "this is \"some kind\" of message\n",
      "one is a number\n",
      "Two is another number \n",
      "three is  the last number\n",
      "one is a number\n",
      "Two is another number \n",
      "three is  the last number\n"
     ]
    }
   ],
   "source": [
    "a = 'hello'\n",
    "a = \"hello\"\n",
    "word = 'this is \"some kind\" of message'\n",
    "print(word)\n",
    "# multiline string \n",
    "message = '''This is one line\n",
    "This is another line \n",
    "This is the last line'''\n",
    "\n",
    "message =\"\"\"one is a number\n",
    "Two is another number \n",
    "three is  the last number\"\"\"\n",
    "print(message)\n",
    "print(message)\n"
   ]
  },
  {
   "cell_type": "markdown",
   "metadata": {},
   "source": [
    "# String type"
   ]
  },
  {
   "cell_type": "code",
   "execution_count": 62,
   "metadata": {},
   "outputs": [
    {
     "name": "stdout",
     "output_type": "stream",
     "text": [
      "this is john\n",
      "this is\\na \\nraw \\nstring\n",
      "C:\\Users\\SHIVANI\\Desktop\\javascript and ES6\\tree2.py\n",
      "b'hello'\n"
     ]
    }
   ],
   "source": [
    "name = 'john'\n",
    "message = f'this is {name}'\n",
    "raw_string = r'this is\\na \\nraw \\nstring'\n",
    "address = r'C:\\Users\\SHIVANI\\Desktop\\javascript and ES6\\tree2.py'\n",
    "binary = b'hello'\n",
    "print(message)\n",
    "print(raw_string)\n",
    "print(address)\n",
    "print(b'hello')\n"
   ]
  },
  {
   "cell_type": "markdown",
   "metadata": {},
   "source": [
    "# string duplication"
   ]
  },
  {
   "cell_type": "code",
   "execution_count": 63,
   "metadata": {},
   "outputs": [
    {
     "data": {
      "text/plain": [
       "'+++++++++++++++'"
      ]
     },
     "execution_count": 63,
     "metadata": {},
     "output_type": "execute_result"
    }
   ],
   "source": [
    "\"+\" * 15"
   ]
  },
  {
   "cell_type": "markdown",
   "metadata": {},
   "source": [
    "# string properties"
   ]
  },
  {
   "cell_type": "code",
   "execution_count": 64,
   "metadata": {},
   "outputs": [
    {
     "ename": "SyntaxError",
     "evalue": "invalid syntax (130306302.py, line 1)",
     "output_type": "error",
     "traceback": [
      "\u001b[1;36m  Cell \u001b[1;32mIn[64], line 1\u001b[1;36m\u001b[0m\n\u001b[1;33m    . string are indexed\u001b[0m\n\u001b[1;37m    ^\u001b[0m\n\u001b[1;31mSyntaxError\u001b[0m\u001b[1;31m:\u001b[0m invalid syntax\n"
     ]
    }
   ],
   "source": [
    ". string are indexed\n",
    ". string are immutable\n",
    ". string are iterable"
   ]
  },
  {
   "cell_type": "code",
   "execution_count": null,
   "metadata": {},
   "outputs": [
    {
     "name": "stdout",
     "output_type": "stream",
     "text": [
      "14\n",
      "s\n",
      "h\n",
      "r\n",
      "e\n",
      "s\n",
      "s h i v a i\n"
     ]
    }
   ],
   "source": [
    "name = \"shivani sonker\"\n",
    "print(len(name))\n",
    "print(name[0])\n",
    "print(name[1])\n",
    "print(name[-1])\n",
    "print(name[-2])\n",
    "print(name[0])\n",
    "print(name[0], name[1], name[2], name[3], name[4],name[6])\n",
    "\n",
    "\n"
   ]
  },
  {
   "cell_type": "code",
   "execution_count": 1,
   "metadata": {},
   "outputs": [],
   "source": [
    "#name[1] = 'f' # string are immutable and will throw on error"
   ]
  },
  {
   "cell_type": "markdown",
   "metadata": {},
   "source": [
    "# slicing str[start : end step]"
   ]
  },
  {
   "cell_type": "code",
   "execution_count": null,
   "metadata": {},
   "outputs": [
    {
     "name": "stdout",
     "output_type": "stream",
     "text": [
      "s\n",
      "shake\n",
      "william\n",
      "will\n",
      "pear\n",
      "william\n"
     ]
    }
   ],
   "source": [
    "name = \"william shakespeare\"\n",
    "print(name[8])\n",
    "print(name[8:13])\n",
    "print(name[0:7])\n",
    "print(name[0:4])\n",
    "print(name[-5:-1])\n",
    "print(name[:7])"
   ]
  },
  {
   "cell_type": "code",
   "execution_count": null,
   "metadata": {},
   "outputs": [
    {
     "name": "stdout",
     "output_type": "stream",
     "text": [
      "B\n",
      "Journey\n",
      "Before\n",
      "Destination\n"
     ]
    }
   ],
   "source": [
    "sentence = \"Journey Before Destination\"\n",
    "print(sentence[8])\n",
    "print(sentence[0:7])\n",
    "print(sentence[8:14])\n",
    "print(sentence[15:])"
   ]
  },
  {
   "cell_type": "code",
   "execution_count": null,
   "metadata": {},
   "outputs": [
    {
     "name": "stdout",
     "output_type": "stream",
     "text": [
      "Ecyts\n",
      "ulpu\n",
      "sutpylcuE\n"
     ]
    }
   ],
   "source": [
    "word = \"Euclyptus\"\n",
    "print(word[::2]) # step  size (even)\n",
    "print(word[1::2])\n",
    "print(word[::-1])\n"
   ]
  },
  {
   "cell_type": "code",
   "execution_count": 67,
   "metadata": {},
   "outputs": [
    {
     "name": "stdout",
     "output_type": "stream",
     "text": [
      "1000000.00\n"
     ]
    }
   ],
   "source": [
    "amount = \"$1000000.00\"\n",
    "amount = amount[1:]\n",
    "print(amount)"
   ]
  },
  {
   "cell_type": "code",
   "execution_count": 75,
   "metadata": {},
   "outputs": [
    {
     "name": "stdout",
     "output_type": "stream",
     "text": [
      "Vikram\n",
      "Prasad\n"
     ]
    }
   ],
   "source": [
    "name = \"Dr. Vikram Prasad\"\n",
    "print(name[4:10])\n",
    "print(name[-6:])\n"
   ]
  },
  {
   "cell_type": "code",
   "execution_count": 73,
   "metadata": {},
   "outputs": [
    {
     "name": "stdout",
     "output_type": "stream",
     "text": [
      "python\n"
     ]
    }
   ],
   "source": [
    "word ='__python__' #  clean this word \n",
    "print(word[2:-2]) # skip first 2 and last 2 elements"
   ]
  },
  {
   "cell_type": "code",
   "execution_count": 2,
   "metadata": {},
   "outputs": [
    {
     "name": "stdout",
     "output_type": "stream",
     "text": [
      " this is shivani\n"
     ]
    }
   ],
   "source": [
    "# F strings\n",
    "me = \"shivani\"\n",
    "a = \" this is %s\"%me\n",
    "print(a)"
   ]
  },
  {
   "cell_type": "code",
   "execution_count": 10,
   "metadata": {},
   "outputs": [
    {
     "name": "stdout",
     "output_type": "stream",
     "text": [
      "this is shivani 3 0.8268286794901034\n"
     ]
    }
   ],
   "source": [
    "import math\n",
    "me = \"shivani\"\n",
    "a1 =3\n",
    "a = f\"this is {me} {a1} {math.sin(65)}\"\n",
    "print(a)"
   ]
  }
 ],
 "metadata": {
  "kernelspec": {
   "display_name": "Python 3",
   "language": "python",
   "name": "python3"
  },
  "language_info": {
   "codemirror_mode": {
    "name": "ipython",
    "version": 3
   },
   "file_extension": ".py",
   "mimetype": "text/x-python",
   "name": "python",
   "nbconvert_exporter": "python",
   "pygments_lexer": "ipython3",
   "version": "3.11.0 (main, Oct 24 2022, 18:26:48) [MSC v.1933 64 bit (AMD64)]"
  },
  "orig_nbformat": 4,
  "vscode": {
   "interpreter": {
    "hash": "5238573367df39f7286bb46f9ff5f08f63a01a80960060ce41e3c79b190280fa"
   }
  }
 },
 "nbformat": 4,
 "nbformat_minor": 2
}
