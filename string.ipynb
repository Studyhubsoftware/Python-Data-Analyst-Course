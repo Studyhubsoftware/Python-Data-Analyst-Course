{
 "cells": [
  {
   "attachments": {},
   "cell_type": "markdown",
   "metadata": {},
   "source": [
    "\n",
    "# Basics\n"
   ]
  },
  {
   "cell_type": "code",
   "execution_count": 17,
   "metadata": {},
   "outputs": [
    {
     "name": "stdout",
     "output_type": "stream",
     "text": [
      "this is \"some kind\" of message\n",
      "one is a number\n",
      "Two is another number \n",
      "three is  the last number\n",
      "one is a number\n",
      "Two is another number \n",
      "three is  the last number\n"
     ]
    }
   ],
   "source": [
    "a = 'hello'\n",
    "a = \"hello\"\n",
    "word = 'this is \"some kind\" of message'\n",
    "print(word)\n",
    "# multiline string \n",
    "message = '''This is one line\n",
    "This is another line \n",
    "This is the last line'''\n",
    "\n",
    "message =\"\"\"one is a number\n",
    "Two is another number \n",
    "three is  the last number\"\"\"\n",
    "print(message)\n",
    "print(message)\n"
   ]
  },
  {
   "cell_type": "markdown",
   "metadata": {},
   "source": [
    "# String type"
   ]
  },
  {
   "cell_type": "code",
   "execution_count": 18,
   "metadata": {},
   "outputs": [
    {
     "name": "stdout",
     "output_type": "stream",
     "text": [
      "this is john\n",
      "this is\\na \\nraw \\nstring\n",
      "C:\\Users\\SHIVANI\\Desktop\\javascript and ES6\\tree2.py\n",
      "b'hello'\n"
     ]
    }
   ],
   "source": [
    "name = 'john'\n",
    "message = f'this is {name}'\n",
    "raw_string = r'this is\\na \\nraw \\nstring'\n",
    "address = r'C:\\Users\\SHIVANI\\Desktop\\javascript and ES6\\tree2.py'\n",
    "binary = b'hello'\n",
    "print(message)\n",
    "print(raw_string)\n",
    "print(address)\n",
    "print(b'hello')\n"
   ]
  },
  {
   "cell_type": "markdown",
   "metadata": {},
   "source": [
    "# string duplication"
   ]
  },
  {
   "cell_type": "code",
   "execution_count": 19,
   "metadata": {},
   "outputs": [
    {
     "data": {
      "text/plain": [
       "'+++++++++++++++'"
      ]
     },
     "execution_count": 19,
     "metadata": {},
     "output_type": "execute_result"
    }
   ],
   "source": [
    "\"+\" * 15"
   ]
  },
  {
   "cell_type": "markdown",
   "metadata": {},
   "source": [
    "# string properties"
   ]
  },
  {
   "cell_type": "markdown",
   "metadata": {},
   "source": [
    ". string are indexed\n",
    ". string are immutable\n",
    ". string are iterable"
   ]
  },
  {
   "cell_type": "code",
   "execution_count": 20,
   "metadata": {},
   "outputs": [
    {
     "name": "stdout",
     "output_type": "stream",
     "text": [
      "14\n",
      "s\n",
      "h\n",
      "r\n",
      "e\n",
      "s\n",
      "s h i v a i\n"
     ]
    }
   ],
   "source": [
    "name = \"shivani sonker\"\n",
    "print(len(name))\n",
    "print(name[0])\n",
    "print(name[1])\n",
    "print(name[-1])\n",
    "print(name[-2])\n",
    "print(name[0])\n",
    "print(name[0], name[1], name[2], name[3], name[4],name[6])\n",
    "\n",
    "\n"
   ]
  },
  {
   "cell_type": "code",
   "execution_count": 21,
   "metadata": {},
   "outputs": [],
   "source": [
    "#name[1] = 'f' # string are immutable and will throw on error"
   ]
  },
  {
   "cell_type": "markdown",
   "metadata": {},
   "source": [
    "# slicing str[start : end step]"
   ]
  },
  {
   "cell_type": "code",
   "execution_count": 22,
   "metadata": {},
   "outputs": [
    {
     "name": "stdout",
     "output_type": "stream",
     "text": [
      "s\n",
      "shake\n",
      "william\n",
      "will\n",
      "pear\n",
      "william\n"
     ]
    }
   ],
   "source": [
    "name = \"william shakespeare\"\n",
    "print(name[8])\n",
    "print(name[8:13])\n",
    "print(name[0:7])\n",
    "print(name[0:4])\n",
    "print(name[-5:-1])\n",
    "print(name[:7])"
   ]
  },
  {
   "cell_type": "code",
   "execution_count": 23,
   "metadata": {},
   "outputs": [
    {
     "name": "stdout",
     "output_type": "stream",
     "text": [
      "B\n",
      "Journey\n",
      "Before\n",
      "Destination\n"
     ]
    }
   ],
   "source": [
    "sentence = \"Journey Before Destination\"\n",
    "print(sentence[8])\n",
    "print(sentence[0:7])\n",
    "print(sentence[8:14])\n",
    "print(sentence[15:])"
   ]
  },
  {
   "cell_type": "code",
   "execution_count": 24,
   "metadata": {},
   "outputs": [
    {
     "name": "stdout",
     "output_type": "stream",
     "text": [
      "Ecyts\n",
      "ulpu\n",
      "sutpylcuE\n"
     ]
    }
   ],
   "source": [
    "word = \"Euclyptus\"\n",
    "print(word[::2]) # step  size (even)\n",
    "print(word[1::2])\n",
    "print(word[::-1])\n"
   ]
  },
  {
   "cell_type": "code",
   "execution_count": 25,
   "metadata": {},
   "outputs": [
    {
     "name": "stdout",
     "output_type": "stream",
     "text": [
      "1000000.00\n"
     ]
    }
   ],
   "source": [
    "amount = \"$1000000.00\"\n",
    "amount = amount[1:]\n",
    "print(amount)"
   ]
  },
  {
   "cell_type": "code",
   "execution_count": 26,
   "metadata": {},
   "outputs": [
    {
     "name": "stdout",
     "output_type": "stream",
     "text": [
      "Vikram\n",
      "Prasad\n"
     ]
    }
   ],
   "source": [
    "name = \"Dr. Vikram Prasad\"\n",
    "print(name[4:10])\n",
    "print(name[-6:])\n"
   ]
  },
  {
   "cell_type": "code",
   "execution_count": 27,
   "metadata": {},
   "outputs": [
    {
     "name": "stdout",
     "output_type": "stream",
     "text": [
      "python\n"
     ]
    }
   ],
   "source": [
    "word ='__python__' #  clean this word \n",
    "print(word[2:-2]) # skip first 2 and last 2 elements"
   ]
  },
  {
   "cell_type": "code",
   "execution_count": 28,
   "metadata": {},
   "outputs": [
    {
     "name": "stdout",
     "output_type": "stream",
     "text": [
      " this is shivani\n"
     ]
    }
   ],
   "source": [
    "# F strings\n",
    "me = \"shivani\"\n",
    "a = \" this is %s\"%me\n",
    "print(a)"
   ]
  },
  {
   "cell_type": "code",
   "execution_count": 29,
   "metadata": {},
   "outputs": [
    {
     "name": "stdout",
     "output_type": "stream",
     "text": [
      "this is shivani 3 0.8268286794901034\n"
     ]
    }
   ],
   "source": [
    "import math\n",
    "me = \"shivani\"\n",
    "a1 =3\n",
    "a = f\"this is {me} {a1} {math.sin(65)}\"\n",
    "print(a)"
   ]
  },
  {
   "attachments": {},
   "cell_type": "markdown",
   "metadata": {},
   "source": [
    "# function in string"
   ]
  },
  {
   "cell_type": "code",
   "execution_count": 30,
   "metadata": {},
   "outputs": [
    {
     "ename": "SyntaxError",
     "evalue": "invalid syntax (3280697377.py, line 2)",
     "output_type": "error",
     "traceback": [
      "\u001b[1;36m  Cell \u001b[1;32mIn[30], line 2\u001b[1;36m\u001b[0m\n\u001b[1;33m    find nad replace\u001b[0m\n\u001b[1;37m         ^\u001b[0m\n\u001b[1;31mSyntaxError\u001b[0m\u001b[1;31m:\u001b[0m invalid syntax\n"
     ]
    }
   ],
   "source": [
    "formatting\n",
    "find nad replace\n",
    "vo"
   ]
  },
  {
   "cell_type": "code",
   "execution_count": null,
   "metadata": {},
   "outputs": [
    {
     "name": "stdout",
     "output_type": "stream",
     "text": [
      "TOMATO IS A FRUIT\n"
     ]
    }
   ],
   "source": [
    "word =\"Tomato is a fruit\"\n",
    "word = word.upper()\n",
    "print(word)"
   ]
  },
  {
   "cell_type": "code",
   "execution_count": null,
   "metadata": {},
   "outputs": [
    {
     "name": "stdout",
     "output_type": "stream",
     "text": [
      "TOMATO IS A FRUIT\n",
      "tomato is a fruit\n",
      "Tomato Is A Fruit\n",
      "Tomato is a fruit\n",
      "tomato is a fruit\n",
      "tomato is a fruit\n",
      "HELLO\n"
     ]
    }
   ],
   "source": [
    "print(word)\n",
    "print(word.lower())\n",
    "print(word.title())\n",
    "print(word.capitalize())\n",
    "print(word.swapcase())\n",
    "print(word.casefold())\n",
    "print(\"hello\".swapcase())"
   ]
  },
  {
   "cell_type": "code",
   "execution_count": null,
   "metadata": {},
   "outputs": [
    {
     "data": {
      "text/plain": [
       "-1"
      ]
     },
     "execution_count": 4,
     "metadata": {},
     "output_type": "execute_result"
    }
   ],
   "source": [
    "word.find('Is')\n"
   ]
  },
  {
   "cell_type": "code",
   "execution_count": null,
   "metadata": {},
   "outputs": [
    {
     "name": "stdout",
     "output_type": "stream",
     "text": [
      "very important meeting\n"
     ]
    }
   ],
   "source": [
    "word = \"we are having a very important meeting\"\n",
    "v_idx = word.find('very')\n",
    "print(word[v_idx:])"
   ]
  },
  {
   "cell_type": "code",
   "execution_count": null,
   "metadata": {},
   "outputs": [
    {
     "data": {
      "text/plain": [
       "27"
      ]
     },
     "execution_count": 9,
     "metadata": {},
     "output_type": "execute_result"
    }
   ],
   "source": [
    "word.find('ant')\n"
   ]
  },
  {
   "cell_type": "code",
   "execution_count": null,
   "metadata": {},
   "outputs": [
    {
     "data": {
      "text/plain": [
       "'we ore hoving o very importont meeting'"
      ]
     },
     "execution_count": 10,
     "metadata": {},
     "output_type": "execute_result"
    }
   ],
   "source": [
    "word.replace(\"a\", \"o\")"
   ]
  },
  {
   "cell_type": "code",
   "execution_count": null,
   "metadata": {},
   "outputs": [
    {
     "name": "stdout",
     "output_type": "stream",
     "text": [
      "we are having a very boring meeting\n"
     ]
    }
   ],
   "source": [
    "word = word.replace('important', 'boring')\n",
    "print(word)"
   ]
  },
  {
   "cell_type": "code",
   "execution_count": null,
   "metadata": {},
   "outputs": [
    {
     "name": "stdout",
     "output_type": "stream",
     "text": [
      "c c c abc\n"
     ]
    }
   ],
   "source": [
    "data= 'a b a b a b abc'\n",
    "data = data.replace('a b', 'c', 3)\n",
    "print(data)"
   ]
  },
  {
   "cell_type": "code",
   "execution_count": null,
   "metadata": {},
   "outputs": [
    {
     "name": "stdout",
     "output_type": "stream",
     "text": [
      "10000\n"
     ]
    }
   ],
   "source": [
    "x = '10000'\n",
    "if x.isnumeric():\n",
    "    x = int(x)\n",
    "    print(x)\n",
    "else:\n",
    "        print('Invalid input')"
   ]
  },
  {
   "cell_type": "code",
   "execution_count": null,
   "metadata": {},
   "outputs": [
    {
     "name": "stdout",
     "output_type": "stream",
     "text": [
      "valid\n"
     ]
    }
   ],
   "source": [
    "fnm = \"Sameer\"\n",
    "if fnm.isalpha():\n",
    "    print('valid')  \n",
    "else:\n",
    "    print('Invalid')     "
   ]
  },
  {
   "cell_type": "code",
   "execution_count": null,
   "metadata": {},
   "outputs": [
    {
     "name": "stdout",
     "output_type": "stream",
     "text": [
      "who are  you\n"
     ]
    }
   ],
   "source": [
    "name = \"Er .Vikram Prasad\"\n",
    "if name.startswith('Dr'):\n",
    "    print('you are a doctor')\n",
    "elif name.startswith('Mr'): \n",
    "    print('you are a gentleman')\n",
    "else:\n",
    "    print('who are  you')\n"
   ]
  },
  {
   "cell_type": "markdown",
   "metadata": {},
   "source": [
    ". count\n",
    ". strip\n",
    ". spilt \n",
    ". join"
   ]
  },
  {
   "cell_type": "code",
   "execution_count": null,
   "metadata": {},
   "outputs": [
    {
     "name": "stdout",
     "output_type": "stream",
     "text": [
      "3\n"
     ]
    }
   ],
   "source": [
    "msg = \"La La Land\"\n",
    "print(msg.count('La'))"
   ]
  },
  {
   "cell_type": "code",
   "execution_count": null,
   "metadata": {},
   "outputs": [
    {
     "name": "stdout",
     "output_type": "stream",
     "text": [
      "p occrred 7 times\n"
     ]
    }
   ],
   "source": [
    "msg2 =\"peter picked a peck of pickled peppers\"\n",
    "cp = msg2.count('p')\n",
    "print(f'p occrred {cp} times') variable or string both are mix in this line"
   ]
  },
  {
   "cell_type": "code",
   "execution_count": null,
   "metadata": {},
   "outputs": [
    {
     "name": "stdout",
     "output_type": "stream",
     "text": [
      "a 1\n",
      "b 0\n",
      "c 3\n",
      "d 2\n",
      "e 7\n",
      "f 1\n",
      "g 0\n",
      "h 0\n",
      "i 2\n",
      "j 0\n",
      "k 3\n",
      "l 1\n",
      "m 0\n",
      "n 0\n",
      "o 1\n",
      "p 7\n",
      "q 0\n",
      "r 2\n",
      "s 1\n",
      "t 1\n",
      "u 0\n",
      "v 0\n",
      "w 0\n",
      "x 0\n",
      "y 0\n",
      "z 0\n"
     ]
    }
   ],
   "source": [
    "from string import ascii_lowercase\n",
    "for letter in ascii_lowercase:\n",
    "    print(letter, msg2.count(letter))"
   ]
  },
  {
   "cell_type": "code",
   "execution_count": null,
   "metadata": {},
   "outputs": [
    {
     "name": "stdout",
     "output_type": "stream",
     "text": [
      "a occured 1 times\n",
      "c occured 3 times\n",
      "d occured 2 times\n",
      "e occured 7 times\n",
      "f occured 1 times\n",
      "i occured 2 times\n",
      "k occured 3 times\n",
      "l occured 1 times\n",
      "o occured 1 times\n",
      "p occured 7 times\n",
      "r occured 2 times\n",
      "s occured 1 times\n",
      "t occured 1 times\n"
     ]
    }
   ],
   "source": [
    "for i in ascii_lowercase:\n",
    "    c = msg2.count(i)\n",
    "    if c > 0: print(f'{i} occured {c} times')"
   ]
  },
  {
   "cell_type": "code",
   "execution_count": null,
   "metadata": {},
   "outputs": [
    {
     "name": "stdout",
     "output_type": "stream",
     "text": [
      "word='ola Amigos   ' & length = 13\n"
     ]
    }
   ],
   "source": [
    "word = \"ola Amigos   \"\n",
    "print(f'{word=} & length = {len(word)}')"
   ]
  },
  {
   "cell_type": "code",
   "execution_count": null,
   "metadata": {},
   "outputs": [
    {
     "name": "stdout",
     "output_type": "stream",
     "text": [
      "word='ola Amigos' & length = 10\n"
     ]
    }
   ],
   "source": [
    "word = word.strip()\n",
    "print(f'{word=} & length = {len(word)}')"
   ]
  },
  {
   "cell_type": "code",
   "execution_count": null,
   "metadata": {},
   "outputs": [
    {
     "data": {
      "text/plain": [
       "' \\nraju\\n\\n'"
      ]
     },
     "execution_count": 37,
     "metadata": {},
     "output_type": "execute_result"
    }
   ],
   "source": [
    "a = ''' \n",
    "raju\n",
    "\n",
    "'''\n",
    "a"
   ]
  },
  {
   "cell_type": "code",
   "execution_count": null,
   "metadata": {},
   "outputs": [
    {
     "name": "stdout",
     "output_type": "stream",
     "text": [
      " \n",
      "raju\n",
      "\n",
      " 8\n",
      "raju 4\n"
     ]
    }
   ],
   "source": [
    "print(a,len(a))\n",
    "a = a.strip()\n",
    "print(a, len(a))"
   ]
  },
  {
   "cell_type": "code",
   "execution_count": null,
   "metadata": {},
   "outputs": [
    {
     "name": "stdout",
     "output_type": "stream",
     "text": [
      "  yguhji    11\n",
      "yguhji 6\n",
      "yguhji    9\n",
      "  yguhji 8\n"
     ]
    }
   ],
   "source": [
    "name = input(\"enter name:\")\n",
    "print(name, len(name))\n",
    "print(name.strip(), len(name.strip()))\n",
    "print(name.lstrip(), len(name.lstrip()))\n",
    "print(name.rstrip(), len(name.rstrip()))"
   ]
  },
  {
   "cell_type": "code",
   "execution_count": null,
   "metadata": {},
   "outputs": [
    {
     "name": "stdout",
     "output_type": "stream",
     "text": [
      "Alex\n",
      "John\n",
      "Mary\n",
      "Sam\n",
      "Tom\n"
     ]
    }
   ],
   "source": [
    "dirty_data = ['Alex ', ' John ',' Mary ','Sam ',' Tom ']\n",
    "for name in dirty_data:\n",
    "    print(name.strip())"
   ]
  },
  {
   "cell_type": "code",
   "execution_count": null,
   "metadata": {},
   "outputs": [
    {
     "name": "stdout",
     "output_type": "stream",
     "text": [
      "['There', 'is', 'a', 'place', 'with', 'a', 'very', 'long', 'name'] 9\n"
     ]
    }
   ],
   "source": [
    "msg = \"There is a place with a very long name\"\n",
    "word = msg.split()\n",
    "print(word, len(word))"
   ]
  },
  {
   "cell_type": "code",
   "execution_count": null,
   "metadata": {},
   "outputs": [
    {
     "data": {
      "text/plain": [
       "['Alpha', ' Beta', 'Gamma', 'Delta', 'Epsilon']"
      ]
     },
     "execution_count": 2,
     "metadata": {},
     "output_type": "execute_result"
    }
   ],
   "source": [
    "msg2 = \"Alpha, Beta,Gamma,Delta,Epsilon\"\n",
    "msg2.split(',')"
   ]
  },
  {
   "cell_type": "code",
   "execution_count": null,
   "metadata": {},
   "outputs": [],
   "source": [
    "msg3 = 'This is sparta. This is Goa. This is Delhi'\n"
   ]
  },
  {
   "cell_type": "code",
   "execution_count": null,
   "metadata": {},
   "outputs": [
    {
     "data": {
      "text/plain": [
       "['This is sparta', 'This is Goa', 'This is Delhi']"
      ]
     },
     "execution_count": 16,
     "metadata": {},
     "output_type": "execute_result"
    }
   ],
   "source": [
    "msg3.split('. ')"
   ]
  },
  {
   "cell_type": "code",
   "execution_count": null,
   "metadata": {},
   "outputs": [
    {
     "name": "stdout",
     "output_type": "stream",
     "text": [
      "['hi', 'there', 'how', 'are', 'you', '?']\n"
     ]
    }
   ],
   "source": [
    "words = ['hi', 'there', 'how', 'are', 'you', '?']\n",
    "print(words)"
   ]
  },
  {
   "cell_type": "code",
   "execution_count": null,
   "metadata": {},
   "outputs": [
    {
     "name": "stdout",
     "output_type": "stream",
     "text": [
      "hi there how are you ?\n"
     ]
    }
   ],
   "source": [
    "msg = ' '.join(words)\n",
    "print(msg)"
   ]
  },
  {
   "attachments": {},
   "cell_type": "markdown",
   "metadata": {},
   "source": [
    "# THIS IS MY OWN SOLUATIONS"
   ]
  },
  {
   "cell_type": "code",
   "execution_count": null,
   "metadata": {},
   "outputs": [
    {
     "name": "stdout",
     "output_type": "stream",
     "text": [
      "Total vowels :  7\n",
      "a  =>  2\n",
      "e  =>  1\n",
      "i  =>  1\n",
      "o  =>  2\n",
      "u  =>  1\n"
     ]
    }
   ],
   "source": [
    "#wap to count all the vowels in a string data\n",
    "input_string = input(\"Enter a string: \")\n",
    "input_string = input_string.casefold()\n",
    "\n",
    "vowels = \"aeiou\"\n",
    "\n",
    "vowelsdata = {}.fromkeys(vowels, 0)\n",
    "totalvowelcount = 0\n",
    "\n",
    "for character in input_string:\n",
    "    if character in vowels:\n",
    "        totalvowelcount += 1\n",
    "        vowelsdata[character] += 1\n",
    "print(\"Total vowels : \", totalvowelcount)        \n",
    "for vowel in vowelsdata:\n",
    "    print(vowel,\" => \", vowelsdata[vowel])        "
   ]
  },
  {
   "cell_type": "code",
   "execution_count": null,
   "metadata": {},
   "outputs": [
    {
     "name": "stdout",
     "output_type": "stream",
     "text": [
      "4\n"
     ]
    }
   ],
   "source": [
    "#wap to count all the words in a string data \n",
    "str=input(\"Enter Line of String\")\n",
    "c=0\n",
    "ch=0\n",
    "for i in str:\n",
    "    if i==' ':\n",
    "        if ch!=0:\n",
    "           \n",
    "            c=c+1\n",
    "        ch=0    \n",
    "    else:\n",
    "        ch=ch+1 \n",
    "\n",
    "if(ch!=0):\n",
    "    c=c+1              \n",
    "s=str.split()\n",
    "print((s))        "
   ]
  },
  {
   "cell_type": "code",
   "execution_count": null,
   "metadata": {},
   "outputs": [],
   "source": [
    "#wap to count all the words in a string data \n",
    "str=input(\"Enter Line of String\")\n",
    "           \n",
    "s=str.split()\n",
    "print((s))        "
   ]
  },
  {
   "cell_type": "code",
   "execution_count": null,
   "metadata": {},
   "outputs": [
    {
     "name": "stdout",
     "output_type": "stream",
     "text": [
      "{'s': 2, 'h': 2, 'i': 2, 'v': 1, 'a': 2, 'n': 2, ' ': 4, 'o': 3, 'k': 1, 'e': 2, 'r': 2, 'w': 1, 'y': 1, 'u': 1}\n",
      "max is  \n"
     ]
    }
   ],
   "source": [
    "#wap to max occuring character in a string data\n",
    "text = \"shivani sonker how are you\"\n",
    "char_dict ={}\n",
    "for each in text:\n",
    "    if each in char_dict.keys():\n",
    "        char_dict[each] += 1\n",
    "    else:\n",
    "      char_dict[each] =  1 \n",
    "print(char_dict) \n",
    "print(\"max is\", max(char_dict, key=char_dict.get))       "
   ]
  },
  {
   "cell_type": "markdown",
   "metadata": {},
   "source": [
    "# SIR HAS SOLVED THIS QUESTION."
   ]
  },
  {
   "cell_type": "code",
   "execution_count": null,
   "metadata": {},
   "outputs": [
    {
     "name": "stdout",
     "output_type": "stream",
     "text": [
      "a occured 0 times\n",
      "e occured 4 times\n",
      "i occured 2 times\n",
      "o occured 3 times\n",
      "u occured 0 times\n"
     ]
    }
   ],
   "source": [
    "#wap to count all the vowels in a string data\n",
    "data = input(\"Enter something:\")\n",
    "for vowel in \"aeiou\":\n",
    "    cnt = data.lower().count(vowel)\n",
    "    print(f'{vowel} occured {cnt} times')    "
   ]
  },
  {
   "cell_type": "code",
   "execution_count": null,
   "metadata": {},
   "outputs": [
    {
     "name": "stdout",
     "output_type": "stream",
     "text": [
      "word_count=12\n"
     ]
    }
   ],
   "source": [
    "# word to count all the words in a string data \n",
    "data = input(\"Enter something:\")\n",
    "word_count = len(data.split())\n",
    "print(f'{word_count=}')"
   ]
  },
  {
   "cell_type": "code",
   "execution_count": null,
   "metadata": {},
   "outputs": [
    {
     "name": "stdout",
     "output_type": "stream",
     "text": [
      "['apple', 'banana', 'cherry']\n"
     ]
    }
   ],
   "source": [
    "#online_notes\n",
    "mylist = [\"apple\", \"banana\", \"cherry\"]\n",
    "x = len(mylist)\n",
    "print(mylist)"
   ]
  },
  {
   "cell_type": "code",
   "execution_count": null,
   "metadata": {},
   "outputs": [],
   "source": [
    "#wap to max occuring character in a string data\n",
    "data = input(\"Enter somthing:\")\n",
    "max = '' # blank string\n",
    "cnt = 0\n",
    "for char in data:\n",
    "    count = data.count(char)\n",
    "    if count > cnt:\n",
    "        mx = char"
   ]
  },
  {
   "cell_type": "code",
   "execution_count": null,
   "metadata": {},
   "outputs": [],
   "source": [
    "#wap to most common vowel in a string data"
   ]
  },
  {
   "cell_type": "code",
   "execution_count": null,
   "metadata": {},
   "outputs": [
    {
     "name": "stdout",
     "output_type": "stream",
     "text": [
      "fdgjahj ndjbfajhu fjajfja\n",
      "fdgjahj ndjbfajhu fjajfja\n"
     ]
    }
   ],
   "source": [
    "# remome all spaces from  a string data\n",
    "data = input(\"Enter something:\")\n",
    "print(data)\n",
    "data = data.replace(' ',' ')\n",
    "print(data)"
   ]
  },
  {
   "cell_type": "code",
   "execution_count": null,
   "metadata": {},
   "outputs": [
    {
     "name": "stdout",
     "output_type": "stream",
     "text": [
      "shivani&**\n",
      "shivani\n"
     ]
    }
   ],
   "source": [
    "#remove all puctuation from a string data\n",
    "from string import punctuation\n",
    "data = input(\"Enter something:\")\n",
    "print(data)\n",
    "for char in punctuation:\n",
    "    data = data.replace(char, '')\n",
    "print(data)    \n"
   ]
  },
  {
   "cell_type": "markdown",
   "metadata": {},
   "source": [
    "# Data Structures"
   ]
  },
  {
   "cell_type": "markdown",
   "metadata": {},
   "source": [
    ". string\n",
    ". list\n",
    ". tuple\n",
    ".  set\n",
    ". dictionary\n"
   ]
  },
  {
   "attachments": {},
   "cell_type": "markdown",
   "metadata": {},
   "source": [
    "list\n",
    "- ordered, indexed, mutable, allows duplicate elements\n",
    "- heterogeneous (mixed type of values can be stored)\n",
    "- can be nested\n",
    "- list() is used for creating a list from other sequence\n",
    "- represented by [ ]"
   ]
  },
  {
   "cell_type": "markdown",
   "metadata": {},
   "source": [
    "create, access,modify, methods"
   ]
  },
  {
   "cell_type": "code",
   "execution_count": 41,
   "metadata": {},
   "outputs": [
    {
     "name": "stdout",
     "output_type": "stream",
     "text": [
      "[] []\n",
      "<class 'list'> <class 'list'>\n"
     ]
    }
   ],
   "source": [
    "x = [] # empty List\n",
    "y = list() # empty List\n",
    "print(x, y)\n",
    "print(type(x), type(y))"
   ]
  },
  {
   "cell_type": "code",
   "execution_count": 31,
   "metadata": {},
   "outputs": [
    {
     "name": "stdout",
     "output_type": "stream",
     "text": [
      "[1, 2, 3, 4, 5] ['ajay', 'vajay', 'sanjay']\n"
     ]
    }
   ],
   "source": [
    "x = [1,2,3,4,5] # numbers\n",
    "names=['ajay','vajay','sanjay']\n",
    "print(x,names)"
   ]
  },
  {
   "cell_type": "code",
   "execution_count": 32,
   "metadata": {},
   "outputs": [
    {
     "name": "stdout",
     "output_type": "stream",
     "text": [
      "['Apple', 100, 'Banana', 40, 'orange', 50]\n"
     ]
    }
   ],
   "source": [
    "mixed = ['Apple',100,'Banana', 40, 'orange', 50]\n",
    "print(mixed)"
   ]
  },
  {
   "cell_type": "code",
   "execution_count": 38,
   "metadata": {},
   "outputs": [
    {
     "name": "stdout",
     "output_type": "stream",
     "text": [
      "[1, 1, 1, 1, 1, 1, 1, 1, 1, 1]\n"
     ]
    }
   ],
   "source": [
    "ones = [1] * 10 # duplicate 1 10 times and store in list\n",
    "print(ones)"
   ]
  },
  {
   "cell_type": "code",
   "execution_count": 46,
   "metadata": {},
   "outputs": [
    {
     "name": "stdout",
     "output_type": "stream",
     "text": [
      "['h', 'o', 'm', 'o', 's', 'a', 'p', 'i', 'e', 'n', 's']\n"
     ]
    }
   ],
   "source": [
    "word = 'homosapiens'\n",
    "chrs = list(word)\n",
    "print(chrs)"
   ]
  },
  {
   "cell_type": "code",
   "execution_count": 54,
   "metadata": {},
   "outputs": [],
   "source": [
    "for i in x:\n",
    "    print(i)"
   ]
  },
  {
   "cell_type": "code",
   "execution_count": 55,
   "metadata": {},
   "outputs": [],
   "source": [
    "for i in x:\n",
    "    print(i + 100)"
   ]
  },
  {
   "cell_type": "code",
   "execution_count": 57,
   "metadata": {},
   "outputs": [],
   "source": [
    "books = ['book1', 'book2', 'book3']"
   ]
  },
  {
   "cell_type": "code",
   "execution_count": 59,
   "metadata": {},
   "outputs": [],
   "source": [
    "books[0] = 'steelheart' # update 0 idx with new value"
   ]
  },
  {
   "cell_type": "code",
   "execution_count": 60,
   "metadata": {},
   "outputs": [
    {
     "name": "stdout",
     "output_type": "stream",
     "text": [
      "['steelheart', 'the final Empire', 'the way of kings']\n"
     ]
    }
   ],
   "source": [
    "books[1] = \"the final Empire\"\n",
    "books[2] = \"the way of kings\"\n",
    "print(books)"
   ]
  },
  {
   "cell_type": "markdown",
   "metadata": {},
   "source": [
    ". List_var.append(single_element)\n",
    ". List_var.remove(single_element)"
   ]
  },
  {
   "cell_type": "code",
   "execution_count": 71,
   "metadata": {},
   "outputs": [
    {
     "name": "stdout",
     "output_type": "stream",
     "text": [
      "['steelheart', 'the final Empire', 'the way of kings', 'The hero of Ages']\n"
     ]
    }
   ],
   "source": [
    "books.append(\"The hero of Ages\")\n",
    "print(books)"
   ]
  },
  {
   "cell_type": "code",
   "execution_count": 64,
   "metadata": {},
   "outputs": [
    {
     "name": "stdout",
     "output_type": "stream",
     "text": [
      "['steelheart', 'the final Empire', 'the way of kings']\n"
     ]
    }
   ],
   "source": [
    "books.remove('The hero of Ages') # removes first occurence of the value\n",
    "print(books)"
   ]
  },
  {
   "cell_type": "code",
   "execution_count": 77,
   "metadata": {},
   "outputs": [
    {
     "name": "stdout",
     "output_type": "stream",
     "text": [
      "['Man Bites Dog', '  The Godfather: Part II', ' Man Bites Dog', ' The Departed', ' Umberto D.', ' White Heat ', ' Eddie Murphy: Raw', ' All Quiet on the Western Front', ' Duck Soup', ' Mafioso', '  Stalag 17', ' The Shawshank Redemption', ' The Dark Knight', ' Fight Club', 'The Big Lebowski']\n"
     ]
    }
   ],
   "source": [
    "movies ='''Man Bites Dog,  The Godfather: Part II, Man Bites Dog, The Departed, Umberto D., White Heat , Eddie Murphy: Raw, All Quiet on the Western Front, Duck Soup, Mafioso,  Stalag 17, The Shawshank Redemption, The Dark Knight, Fight Club,The Big Lebowski'''.split(',')\n",
    "print(movies)"
   ]
  },
  {
   "cell_type": "code",
   "execution_count": 79,
   "metadata": {},
   "outputs": [
    {
     "data": {
      "text/plain": [
       "['Man Bites Dog', '  The Godfather: Part II', ' Man Bites Dog']"
      ]
     },
     "execution_count": 79,
     "metadata": {},
     "output_type": "execute_result"
    }
   ],
   "source": [
    "movies[:3]"
   ]
  },
  {
   "cell_type": "code",
   "execution_count": null,
   "metadata": {},
   "outputs": [],
   "source": [
    "books = []\n",
    "for i in range(5):\n",
    "    books.append(input())\n",
    "print(books)    "
   ]
  },
  {
   "cell_type": "code",
   "execution_count": 80,
   "metadata": {},
   "outputs": [
    {
     "data": {
      "text/plain": [
       "[' White Heat ',\n",
       " ' Eddie Murphy: Raw',\n",
       " ' All Quiet on the Western Front',\n",
       " ' Duck Soup',\n",
       " ' Mafioso']"
      ]
     },
     "execution_count": 80,
     "metadata": {},
     "output_type": "execute_result"
    }
   ],
   "source": [
    "movies[5:-5] # start at idx 5 and stop at idx "
   ]
  },
  {
   "cell_type": "code",
   "execution_count": 81,
   "metadata": {},
   "outputs": [
    {
     "data": {
      "text/plain": [
       "['The Big Lebowski',\n",
       " ' Fight Club',\n",
       " ' The Dark Knight',\n",
       " ' The Shawshank Redemption',\n",
       " '  Stalag 17',\n",
       " ' Mafioso',\n",
       " ' Duck Soup',\n",
       " ' All Quiet on the Western Front',\n",
       " ' Eddie Murphy: Raw',\n",
       " ' White Heat ',\n",
       " ' Umberto D.',\n",
       " ' The Departed',\n",
       " ' Man Bites Dog',\n",
       " '  The Godfather: Part II',\n",
       " 'Man Bites Dog']"
      ]
     },
     "execution_count": 81,
     "metadata": {},
     "output_type": "execute_result"
    }
   ],
   "source": [
    "movies[::-1] # reverse the list"
   ]
  },
  {
   "cell_type": "code",
   "execution_count": 82,
   "metadata": {},
   "outputs": [
    {
     "name": "stdout",
     "output_type": "stream",
     "text": [
      "['Man Bites Dog', ' Man Bites Dog', ' Umberto D.', ' Eddie Murphy: Raw', ' Duck Soup', '  Stalag 17', ' The Dark Knight', 'The Big Lebowski']\n"
     ]
    }
   ],
   "source": [
    "print(movies[::2])  # every 2nd elment"
   ]
  },
  {
   "cell_type": "markdown",
   "metadata": {},
   "source": [
    "##### methods - 11\n",
    "- adding\n",
    "     - append()\n",
    "     -  insert()\n",
    "     -   extend\n",
    " - remove\n",
    "         - remove()\n",
    "         -  pop()\n",
    "         -  clear()\n",
    " - utilty\n",
    "         - index            "
   ]
  },
  {
   "cell_type": "code",
   "execution_count": 85,
   "metadata": {},
   "outputs": [
    {
     "name": "stdout",
     "output_type": "stream",
     "text": [
      "[1, 2, 3]\n"
     ]
    }
   ],
   "source": [
    "x =[1,2]\n",
    "x.append(3)\n",
    "print(x)"
   ]
  },
  {
   "cell_type": "code",
   "execution_count": 86,
   "metadata": {},
   "outputs": [
    {
     "name": "stdout",
     "output_type": "stream",
     "text": [
      "[1, 1.5, 2, 3]\n"
     ]
    }
   ],
   "source": [
    "x.insert(1,1.5) # inser\n",
    "print(x)"
   ]
  },
  {
   "cell_type": "code",
   "execution_count": 88,
   "metadata": {},
   "outputs": [
    {
     "name": "stdout",
     "output_type": "stream",
     "text": [
      "[1, 1.5, 2, 2.5, 2.5, 3]\n"
     ]
    }
   ],
   "source": [
    "x.insert(3,2.5)\n",
    "print(x)"
   ]
  },
  {
   "cell_type": "code",
   "execution_count": 89,
   "metadata": {},
   "outputs": [
    {
     "name": "stdout",
     "output_type": "stream",
     "text": [
      "[1, 1.5, 2, 100, 2.5, 2.5, 3]\n"
     ]
    }
   ],
   "source": [
    "x.insert(3,100)\n",
    "print(x)"
   ]
  },
  {
   "cell_type": "code",
   "execution_count": 90,
   "metadata": {},
   "outputs": [
    {
     "name": "stdout",
     "output_type": "stream",
     "text": [
      "[1, 1.5, 2, 100, 100, 2.5, 2.5, 3]\n"
     ]
    }
   ],
   "source": [
    "x.insert(4,100)\n",
    "print(x)"
   ]
  },
  {
   "cell_type": "code",
   "execution_count": 91,
   "metadata": {},
   "outputs": [
    {
     "data": {
      "text/plain": [
       "[1, 2, 3, 4, 1, 2, 5]"
      ]
     },
     "execution_count": 91,
     "metadata": {},
     "output_type": "execute_result"
    }
   ],
   "source": [
    "a = [1,2,3]\n",
    "b = [4,1,2,5]\n",
    "a + b"
   ]
  },
  {
   "cell_type": "code",
   "execution_count": 93,
   "metadata": {},
   "outputs": [
    {
     "name": "stdout",
     "output_type": "stream",
     "text": [
      "[1, 2, 3, 4, 1, 2, 5, 4, 1, 2, 5]\n"
     ]
    }
   ],
   "source": [
    "a.extend(b)\n",
    "print(a)"
   ]
  }
 ],
 "metadata": {
  "kernelspec": {
   "display_name": "Python 3",
   "language": "python",
   "name": "python3"
  },
  "language_info": {
   "codemirror_mode": {
    "name": "ipython",
    "version": 3
   },
   "file_extension": ".py",
   "mimetype": "text/x-python",
   "name": "python",
   "nbconvert_exporter": "python",
   "pygments_lexer": "ipython3",
   "version": "3.11.0"
  },
  "orig_nbformat": 4,
  "vscode": {
   "interpreter": {
    "hash": "5238573367df39f7286bb46f9ff5f08f63a01a80960060ce41e3c79b190280fa"
   }
  }
 },
 "nbformat": 4,
 "nbformat_minor": 2
}
