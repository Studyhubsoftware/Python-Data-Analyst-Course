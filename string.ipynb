{
 "cells": [
  {
   "attachments": {},
   "cell_type": "markdown",
   "metadata": {},
   "source": [
    "\n",
    "# Basics\n"
   ]
  },
  {
   "cell_type": "code",
   "execution_count": 61,
   "metadata": {},
   "outputs": [
    {
     "name": "stdout",
     "output_type": "stream",
     "text": [
      "this is \"some kind\" of message\n",
      "one is a number\n",
      "Two is another number \n",
      "three is  the last number\n",
      "one is a number\n",
      "Two is another number \n",
      "three is  the last number\n"
     ]
    }
   ],
   "source": [
    "a = 'hello'\n",
    "a = \"hello\"\n",
    "word = 'this is \"some kind\" of message'\n",
    "print(word)\n",
    "# multiline string \n",
    "message = '''This is one line\n",
    "This is another line \n",
    "This is the last line'''\n",
    "\n",
    "message =\"\"\"one is a number\n",
    "Two is another number \n",
    "three is  the last number\"\"\"\n",
    "print(message)\n",
    "print(message)\n"
   ]
  },
  {
   "cell_type": "markdown",
   "metadata": {},
   "source": [
    "# String type"
   ]
  },
  {
   "cell_type": "code",
   "execution_count": 62,
   "metadata": {},
   "outputs": [
    {
     "name": "stdout",
     "output_type": "stream",
     "text": [
      "this is john\n",
      "this is\\na \\nraw \\nstring\n",
      "C:\\Users\\SHIVANI\\Desktop\\javascript and ES6\\tree2.py\n",
      "b'hello'\n"
     ]
    }
   ],
   "source": [
    "name = 'john'\n",
    "message = f'this is {name}'\n",
    "raw_string = r'this is\\na \\nraw \\nstring'\n",
    "address = r'C:\\Users\\SHIVANI\\Desktop\\javascript and ES6\\tree2.py'\n",
    "binary = b'hello'\n",
    "print(message)\n",
    "print(raw_string)\n",
    "print(address)\n",
    "print(b'hello')\n"
   ]
  },
  {
   "cell_type": "markdown",
   "metadata": {},
   "source": [
    "# string duplication"
   ]
  },
  {
   "cell_type": "code",
   "execution_count": 63,
   "metadata": {},
   "outputs": [
    {
     "data": {
      "text/plain": [
       "'+++++++++++++++'"
      ]
     },
     "execution_count": 63,
     "metadata": {},
     "output_type": "execute_result"
    }
   ],
   "source": [
    "\"+\" * 15"
   ]
  },
  {
   "cell_type": "markdown",
   "metadata": {},
   "source": [
    "# string properties"
   ]
  },
  {
   "cell_type": "code",
   "execution_count": 64,
   "metadata": {},
   "outputs": [
    {
     "ename": "SyntaxError",
     "evalue": "invalid syntax (130306302.py, line 1)",
     "output_type": "error",
     "traceback": [
      "\u001b[1;36m  Cell \u001b[1;32mIn[64], line 1\u001b[1;36m\u001b[0m\n\u001b[1;33m    . string are indexed\u001b[0m\n\u001b[1;37m    ^\u001b[0m\n\u001b[1;31mSyntaxError\u001b[0m\u001b[1;31m:\u001b[0m invalid syntax\n"
     ]
    }
   ],
   "source": [
    ". string are indexed\n",
    ". string are immutable\n",
    ". string are iterable"
   ]
  },
  {
   "cell_type": "code",
   "execution_count": null,
   "metadata": {},
   "outputs": [
    {
     "name": "stdout",
     "output_type": "stream",
     "text": [
      "14\n",
      "s\n",
      "h\n",
      "r\n",
      "e\n",
      "s\n",
      "s h i v a i\n"
     ]
    }
   ],
   "source": [
    "name = \"shivani sonker\"\n",
    "print(len(name))\n",
    "print(name[0])\n",
    "print(name[1])\n",
    "print(name[-1])\n",
    "print(name[-2])\n",
    "print(name[0])\n",
    "print(name[0], name[1], name[2], name[3], name[4],name[6])\n",
    "\n",
    "\n"
   ]
  },
  {
   "cell_type": "code",
   "execution_count": 1,
   "metadata": {},
   "outputs": [],
   "source": [
    "#name[1] = 'f' # string are immutable and will throw on error"
   ]
  },
  {
   "cell_type": "markdown",
   "metadata": {},
   "source": [
    "# slicing str[start : end step]"
   ]
  },
  {
   "cell_type": "code",
   "execution_count": null,
   "metadata": {},
   "outputs": [
    {
     "name": "stdout",
     "output_type": "stream",
     "text": [
      "s\n",
      "shake\n",
      "william\n",
      "will\n",
      "pear\n",
      "william\n"
     ]
    }
   ],
   "source": [
    "name = \"william shakespeare\"\n",
    "print(name[8])\n",
    "print(name[8:13])\n",
    "print(name[0:7])\n",
    "print(name[0:4])\n",
    "print(name[-5:-1])\n",
    "print(name[:7])"
   ]
  },
  {
   "cell_type": "code",
   "execution_count": null,
   "metadata": {},
   "outputs": [
    {
     "name": "stdout",
     "output_type": "stream",
     "text": [
      "B\n",
      "Journey\n",
      "Before\n",
      "Destination\n"
     ]
    }
   ],
   "source": [
    "sentence = \"Journey Before Destination\"\n",
    "print(sentence[8])\n",
    "print(sentence[0:7])\n",
    "print(sentence[8:14])\n",
    "print(sentence[15:])"
   ]
  },
  {
   "cell_type": "code",
   "execution_count": null,
   "metadata": {},
   "outputs": [
    {
     "name": "stdout",
     "output_type": "stream",
     "text": [
      "Ecyts\n",
      "ulpu\n",
      "sutpylcuE\n"
     ]
    }
   ],
   "source": [
    "word = \"Euclyptus\"\n",
    "print(word[::2]) # step  size (even)\n",
    "print(word[1::2])\n",
    "print(word[::-1])\n"
   ]
  },
  {
   "cell_type": "code",
   "execution_count": 67,
   "metadata": {},
   "outputs": [
    {
     "name": "stdout",
     "output_type": "stream",
     "text": [
      "1000000.00\n"
     ]
    }
   ],
   "source": [
    "amount = \"$1000000.00\"\n",
    "amount = amount[1:]\n",
    "print(amount)"
   ]
  },
  {
   "cell_type": "code",
   "execution_count": 75,
   "metadata": {},
   "outputs": [
    {
     "name": "stdout",
     "output_type": "stream",
     "text": [
      "Vikram\n",
      "Prasad\n"
     ]
    }
   ],
   "source": [
    "name = \"Dr. Vikram Prasad\"\n",
    "print(name[4:10])\n",
    "print(name[-6:])\n"
   ]
  },
  {
   "cell_type": "code",
   "execution_count": 73,
   "metadata": {},
   "outputs": [
    {
     "name": "stdout",
     "output_type": "stream",
     "text": [
      "python\n"
     ]
    }
   ],
   "source": [
    "word ='__python__' #  clean this word \n",
    "print(word[2:-2]) # skip first 2 and last 2 elements"
   ]
  },
  {
   "cell_type": "code",
   "execution_count": 2,
   "metadata": {},
   "outputs": [
    {
     "name": "stdout",
     "output_type": "stream",
     "text": [
      " this is shivani\n"
     ]
    }
   ],
   "source": [
    "# F strings\n",
    "me = \"shivani\"\n",
    "a = \" this is %s\"%me\n",
    "print(a)"
   ]
  },
  {
   "cell_type": "code",
   "execution_count": 10,
   "metadata": {},
   "outputs": [
    {
     "name": "stdout",
     "output_type": "stream",
     "text": [
      "this is shivani 3 0.8268286794901034\n"
     ]
    }
   ],
   "source": [
    "import math\n",
    "me = \"shivani\"\n",
    "a1 =3\n",
    "a = f\"this is {me} {a1} {math.sin(65)}\"\n",
    "print(a)"
   ]
  },
  {
   "attachments": {},
   "cell_type": "markdown",
   "metadata": {},
   "source": [
    "# function in string"
   ]
  },
  {
   "cell_type": "code",
   "execution_count": null,
   "metadata": {},
   "outputs": [],
   "source": [
    "formatting\n",
    "find nad replace\n",
    "vo"
   ]
  },
  {
   "cell_type": "code",
   "execution_count": 2,
   "metadata": {},
   "outputs": [
    {
     "name": "stdout",
     "output_type": "stream",
     "text": [
      "TOMATO IS A FRUIT\n"
     ]
    }
   ],
   "source": [
    "word =\"Tomato is a fruit\"\n",
    "word = word.upper()\n",
    "print(word)"
   ]
  },
  {
   "cell_type": "code",
   "execution_count": 3,
   "metadata": {},
   "outputs": [
    {
     "name": "stdout",
     "output_type": "stream",
     "text": [
      "TOMATO IS A FRUIT\n",
      "tomato is a fruit\n",
      "Tomato Is A Fruit\n",
      "Tomato is a fruit\n",
      "tomato is a fruit\n",
      "tomato is a fruit\n",
      "HELLO\n"
     ]
    }
   ],
   "source": [
    "print(word)\n",
    "print(word.lower())\n",
    "print(word.title())\n",
    "print(word.capitalize())\n",
    "print(word.swapcase())\n",
    "print(word.casefold())\n",
    "print(\"hello\".swapcase())"
   ]
  },
  {
   "cell_type": "code",
   "execution_count": 4,
   "metadata": {},
   "outputs": [
    {
     "data": {
      "text/plain": [
       "-1"
      ]
     },
     "execution_count": 4,
     "metadata": {},
     "output_type": "execute_result"
    }
   ],
   "source": [
    "word.find('Is')\n"
   ]
  },
  {
   "cell_type": "code",
   "execution_count": 5,
   "metadata": {},
   "outputs": [
    {
     "name": "stdout",
     "output_type": "stream",
     "text": [
      "very important meeting\n"
     ]
    }
   ],
   "source": [
    "word = \"we are having a very important meeting\"\n",
    "v_idx = word.find('very')\n",
    "print(word[v_idx:])"
   ]
  },
  {
   "cell_type": "code",
   "execution_count": 9,
   "metadata": {},
   "outputs": [
    {
     "data": {
      "text/plain": [
       "27"
      ]
     },
     "execution_count": 9,
     "metadata": {},
     "output_type": "execute_result"
    }
   ],
   "source": [
    "word.find('ant')\n"
   ]
  },
  {
   "cell_type": "code",
   "execution_count": 10,
   "metadata": {},
   "outputs": [
    {
     "data": {
      "text/plain": [
       "'we ore hoving o very importont meeting'"
      ]
     },
     "execution_count": 10,
     "metadata": {},
     "output_type": "execute_result"
    }
   ],
   "source": [
    "word.replace(\"a\", \"o\")"
   ]
  },
  {
   "cell_type": "code",
   "execution_count": 12,
   "metadata": {},
   "outputs": [
    {
     "name": "stdout",
     "output_type": "stream",
     "text": [
      "we are having a very boring meeting\n"
     ]
    }
   ],
   "source": [
    "word = word.replace('important', 'boring')\n",
    "print(word)"
   ]
  },
  {
   "cell_type": "code",
   "execution_count": 23,
   "metadata": {},
   "outputs": [
    {
     "name": "stdout",
     "output_type": "stream",
     "text": [
      "c c c abc\n"
     ]
    }
   ],
   "source": [
    "data= 'a b a b a b abc'\n",
    "data = data.replace('a b', 'c', 3)\n",
    "print(data)"
   ]
  },
  {
   "cell_type": "code",
   "execution_count": 24,
   "metadata": {},
   "outputs": [
    {
     "name": "stdout",
     "output_type": "stream",
     "text": [
      "10000\n"
     ]
    }
   ],
   "source": [
    "x = '10000'\n",
    "if x.isnumeric():\n",
    "    x = int(x)\n",
    "    print(x)\n",
    "else:\n",
    "        print('Invalid input')"
   ]
  },
  {
   "cell_type": "code",
   "execution_count": 25,
   "metadata": {},
   "outputs": [
    {
     "name": "stdout",
     "output_type": "stream",
     "text": [
      "valid\n"
     ]
    }
   ],
   "source": [
    "fnm = \"Sameer\"\n",
    "if fnm.isalpha():\n",
    "    print('valid')  \n",
    "else:\n",
    "    print('Invalid')     "
   ]
  },
  {
   "cell_type": "code",
   "execution_count": 27,
   "metadata": {},
   "outputs": [
    {
     "name": "stdout",
     "output_type": "stream",
     "text": [
      "who are  you\n"
     ]
    }
   ],
   "source": [
    "name = \"Er .Vikram Prasad\"\n",
    "if name.startswith('Dr'):\n",
    "    print('you are a doctor')\n",
    "elif name.startswith('Mr'): \n",
    "    print('you are a gentleman')\n",
    "else:\n",
    "    print('who are  you')\n"
   ]
  }
 ],
 "metadata": {
  "kernelspec": {
   "display_name": "Python 3",
   "language": "python",
   "name": "python3"
  },
  "language_info": {
   "codemirror_mode": {
    "name": "ipython",
    "version": 3
   },
   "file_extension": ".py",
   "mimetype": "text/x-python",
   "name": "python",
   "nbconvert_exporter": "python",
   "pygments_lexer": "ipython3",
   "version": "3.11.0 (main, Oct 24 2022, 18:26:48) [MSC v.1933 64 bit (AMD64)]"
  },
  "orig_nbformat": 4,
  "vscode": {
   "interpreter": {
    "hash": "5238573367df39f7286bb46f9ff5f08f63a01a80960060ce41e3c79b190280fa"
   }
  }
 },
 "nbformat": 4,
 "nbformat_minor": 2
}
