{
 "cells": [
  {
   "attachments": {},
   "cell_type": "markdown",
   "metadata": {},
   "source": [
    "\n",
    "# Basics\n"
   ]
  },
  {
   "cell_type": "code",
   "execution_count": 2,
   "metadata": {},
   "outputs": [
    {
     "name": "stdout",
     "output_type": "stream",
     "text": [
      "this is \"some kind\" of message\n",
      "one is a number\n",
      "Two is another number \n",
      "three is  the last number\n",
      "one is a number\n",
      "Two is another number \n",
      "three is  the last number\n"
     ]
    }
   ],
   "source": [
    "a = 'hello'\n",
    "a = \"hello\"\n",
    "word = 'this is \"some kind\" of message'\n",
    "print(word)\n",
    "# multiline string \n",
    "message = '''This is one line\n",
    "This is another line \n",
    "This is the last line'''\n",
    "\n",
    "message =\"\"\"one is a number\n",
    "Two is another number \n",
    "three is  the last number\"\"\"\n",
    "print(message)\n",
    "print(message)\n"
   ]
  },
  {
   "cell_type": "markdown",
   "metadata": {},
   "source": [
    "# String type"
   ]
  },
  {
   "cell_type": "code",
   "execution_count": 3,
   "metadata": {},
   "outputs": [
    {
     "name": "stdout",
     "output_type": "stream",
     "text": [
      "this is john\n",
      "this is\\na \\nraw \\nstring\n",
      "C:\\Users\\SHIVANI\\Desktop\\javascript and ES6\\tree2.py\n",
      "b'hello'\n"
     ]
    }
   ],
   "source": [
    "name = 'john'\n",
    "message = f'this is {name}'\n",
    "raw_string = r'this is\\na \\nraw \\nstring'\n",
    "address = r'C:\\Users\\SHIVANI\\Desktop\\javascript and ES6\\tree2.py'\n",
    "binary = b'hello'\n",
    "print(message)\n",
    "print(raw_string)\n",
    "print(address)\n",
    "print(b'hello')\n"
   ]
  },
  {
   "cell_type": "markdown",
   "metadata": {},
   "source": [
    "# string duplication"
   ]
  },
  {
   "cell_type": "code",
   "execution_count": 4,
   "metadata": {},
   "outputs": [
    {
     "data": {
      "text/plain": [
       "'+++++++++++++++'"
      ]
     },
     "execution_count": 4,
     "metadata": {},
     "output_type": "execute_result"
    }
   ],
   "source": [
    "\"+\" * 15"
   ]
  },
  {
   "cell_type": "markdown",
   "metadata": {},
   "source": [
    "# string properties"
   ]
  },
  {
   "cell_type": "code",
   "execution_count": 5,
   "metadata": {},
   "outputs": [
    {
     "ename": "SyntaxError",
     "evalue": "invalid syntax (130306302.py, line 1)",
     "output_type": "error",
     "traceback": [
      "\u001b[1;36m  Cell \u001b[1;32mIn[5], line 1\u001b[1;36m\u001b[0m\n\u001b[1;33m    . string are indexed\u001b[0m\n\u001b[1;37m    ^\u001b[0m\n\u001b[1;31mSyntaxError\u001b[0m\u001b[1;31m:\u001b[0m invalid syntax\n"
     ]
    }
   ],
   "source": [
    ". string are indexed\n",
    ". string are immutable\n",
    ". string are iterable"
   ]
  },
  {
   "cell_type": "code",
   "execution_count": null,
   "metadata": {},
   "outputs": [
    {
     "name": "stdout",
     "output_type": "stream",
     "text": [
      "14\n",
      "s\n",
      "h\n",
      "r\n",
      "e\n",
      "s\n",
      "s h i v a i\n"
     ]
    }
   ],
   "source": [
    "name = \"shivani sonker\"\n",
    "print(len(name))\n",
    "print(name[0])\n",
    "print(name[1])\n",
    "print(name[-1])\n",
    "print(name[-2])\n",
    "print(name[0])\n",
    "print(name[0], name[1], name[2], name[3], name[4],name[6])\n",
    "\n",
    "\n"
   ]
  },
  {
   "cell_type": "code",
   "execution_count": null,
   "metadata": {},
   "outputs": [],
   "source": [
    "#name[1] = 'f' # string are immutable and will throw on error"
   ]
  },
  {
   "cell_type": "markdown",
   "metadata": {},
   "source": [
    "# slicing str[start : end step]"
   ]
  },
  {
   "cell_type": "code",
   "execution_count": null,
   "metadata": {},
   "outputs": [
    {
     "name": "stdout",
     "output_type": "stream",
     "text": [
      "s\n",
      "shake\n",
      "william\n",
      "will\n",
      "pear\n",
      "william\n"
     ]
    }
   ],
   "source": [
    "name = \"william shakespeare\"\n",
    "print(name[8])\n",
    "print(name[8:13])\n",
    "print(name[0:7])\n",
    "print(name[0:4])\n",
    "print(name[-5:-1])\n",
    "print(name[:7])"
   ]
  },
  {
   "cell_type": "code",
   "execution_count": null,
   "metadata": {},
   "outputs": [
    {
     "name": "stdout",
     "output_type": "stream",
     "text": [
      "B\n",
      "Journey\n",
      "Before\n",
      "Destination\n"
     ]
    }
   ],
   "source": [
    "sentence = \"Journey Before Destination\"\n",
    "print(sentence[8])\n",
    "print(sentence[0:7])\n",
    "print(sentence[8:14])\n",
    "print(sentence[15:])"
   ]
  },
  {
   "cell_type": "code",
   "execution_count": null,
   "metadata": {},
   "outputs": [
    {
     "name": "stdout",
     "output_type": "stream",
     "text": [
      "Ecyts\n",
      "ulpu\n",
      "sutpylcuE\n"
     ]
    }
   ],
   "source": [
    "word = \"Euclyptus\"\n",
    "print(word[::2]) # step  size (even)\n",
    "print(word[1::2])\n",
    "print(word[::-1])\n"
   ]
  },
  {
   "cell_type": "code",
   "execution_count": null,
   "metadata": {},
   "outputs": [
    {
     "name": "stdout",
     "output_type": "stream",
     "text": [
      "1000000.00\n"
     ]
    }
   ],
   "source": [
    "amount = \"$1000000.00\"\n",
    "amount = amount[1:]\n",
    "print(amount)"
   ]
  },
  {
   "cell_type": "code",
   "execution_count": null,
   "metadata": {},
   "outputs": [
    {
     "name": "stdout",
     "output_type": "stream",
     "text": [
      "Vikram\n",
      "Prasad\n"
     ]
    }
   ],
   "source": [
    "name = \"Dr. Vikram Prasad\"\n",
    "print(name[4:10])\n",
    "print(name[-6:])\n"
   ]
  },
  {
   "cell_type": "code",
   "execution_count": null,
   "metadata": {},
   "outputs": [
    {
     "name": "stdout",
     "output_type": "stream",
     "text": [
      "python\n"
     ]
    }
   ],
   "source": [
    "word ='__python__' #  clean this word \n",
    "print(word[2:-2]) # skip first 2 and last 2 elements"
   ]
  },
  {
   "cell_type": "code",
   "execution_count": null,
   "metadata": {},
   "outputs": [
    {
     "name": "stdout",
     "output_type": "stream",
     "text": [
      " this is shivani\n"
     ]
    }
   ],
   "source": [
    "# F strings\n",
    "me = \"shivani\"\n",
    "a = \" this is %s\"%me\n",
    "print(a)"
   ]
  },
  {
   "cell_type": "code",
   "execution_count": null,
   "metadata": {},
   "outputs": [
    {
     "name": "stdout",
     "output_type": "stream",
     "text": [
      "this is shivani 3 0.8268286794901034\n"
     ]
    }
   ],
   "source": [
    "import math\n",
    "me = \"shivani\"\n",
    "a1 =3\n",
    "a = f\"this is {me} {a1} {math.sin(65)}\"\n",
    "print(a)"
   ]
  },
  {
   "attachments": {},
   "cell_type": "markdown",
   "metadata": {},
   "source": [
    "# function in string"
   ]
  },
  {
   "cell_type": "code",
   "execution_count": null,
   "metadata": {},
   "outputs": [],
   "source": [
    "formatting\n",
    "find nad replace\n",
    "vo"
   ]
  },
  {
   "cell_type": "code",
   "execution_count": null,
   "metadata": {},
   "outputs": [
    {
     "name": "stdout",
     "output_type": "stream",
     "text": [
      "TOMATO IS A FRUIT\n"
     ]
    }
   ],
   "source": [
    "word =\"Tomato is a fruit\"\n",
    "word = word.upper()\n",
    "print(word)"
   ]
  },
  {
   "cell_type": "code",
   "execution_count": null,
   "metadata": {},
   "outputs": [
    {
     "name": "stdout",
     "output_type": "stream",
     "text": [
      "TOMATO IS A FRUIT\n",
      "tomato is a fruit\n",
      "Tomato Is A Fruit\n",
      "Tomato is a fruit\n",
      "tomato is a fruit\n",
      "tomato is a fruit\n",
      "HELLO\n"
     ]
    }
   ],
   "source": [
    "print(word)\n",
    "print(word.lower())\n",
    "print(word.title())\n",
    "print(word.capitalize())\n",
    "print(word.swapcase())\n",
    "print(word.casefold())\n",
    "print(\"hello\".swapcase())"
   ]
  },
  {
   "cell_type": "code",
   "execution_count": null,
   "metadata": {},
   "outputs": [
    {
     "data": {
      "text/plain": [
       "-1"
      ]
     },
     "execution_count": 4,
     "metadata": {},
     "output_type": "execute_result"
    }
   ],
   "source": [
    "word.find('Is')\n"
   ]
  },
  {
   "cell_type": "code",
   "execution_count": null,
   "metadata": {},
   "outputs": [
    {
     "name": "stdout",
     "output_type": "stream",
     "text": [
      "very important meeting\n"
     ]
    }
   ],
   "source": [
    "word = \"we are having a very important meeting\"\n",
    "v_idx = word.find('very')\n",
    "print(word[v_idx:])"
   ]
  },
  {
   "cell_type": "code",
   "execution_count": null,
   "metadata": {},
   "outputs": [
    {
     "data": {
      "text/plain": [
       "27"
      ]
     },
     "execution_count": 9,
     "metadata": {},
     "output_type": "execute_result"
    }
   ],
   "source": [
    "word.find('ant')\n"
   ]
  },
  {
   "cell_type": "code",
   "execution_count": null,
   "metadata": {},
   "outputs": [
    {
     "data": {
      "text/plain": [
       "'we ore hoving o very importont meeting'"
      ]
     },
     "execution_count": 10,
     "metadata": {},
     "output_type": "execute_result"
    }
   ],
   "source": [
    "word.replace(\"a\", \"o\")"
   ]
  },
  {
   "cell_type": "code",
   "execution_count": null,
   "metadata": {},
   "outputs": [
    {
     "name": "stdout",
     "output_type": "stream",
     "text": [
      "we are having a very boring meeting\n"
     ]
    }
   ],
   "source": [
    "word = word.replace('important', 'boring')\n",
    "print(word)"
   ]
  },
  {
   "cell_type": "code",
   "execution_count": null,
   "metadata": {},
   "outputs": [
    {
     "name": "stdout",
     "output_type": "stream",
     "text": [
      "c c c abc\n"
     ]
    }
   ],
   "source": [
    "data= 'a b a b a b abc'\n",
    "data = data.replace('a b', 'c', 3)\n",
    "print(data)"
   ]
  },
  {
   "cell_type": "code",
   "execution_count": null,
   "metadata": {},
   "outputs": [
    {
     "name": "stdout",
     "output_type": "stream",
     "text": [
      "10000\n"
     ]
    }
   ],
   "source": [
    "x = '10000'\n",
    "if x.isnumeric():\n",
    "    x = int(x)\n",
    "    print(x)\n",
    "else:\n",
    "        print('Invalid input')"
   ]
  },
  {
   "cell_type": "code",
   "execution_count": null,
   "metadata": {},
   "outputs": [
    {
     "name": "stdout",
     "output_type": "stream",
     "text": [
      "valid\n"
     ]
    }
   ],
   "source": [
    "fnm = \"Sameer\"\n",
    "if fnm.isalpha():\n",
    "    print('valid')  \n",
    "else:\n",
    "    print('Invalid')     "
   ]
  },
  {
   "cell_type": "code",
   "execution_count": null,
   "metadata": {},
   "outputs": [
    {
     "name": "stdout",
     "output_type": "stream",
     "text": [
      "who are  you\n"
     ]
    }
   ],
   "source": [
    "name = \"Er .Vikram Prasad\"\n",
    "if name.startswith('Dr'):\n",
    "    print('you are a doctor')\n",
    "elif name.startswith('Mr'): \n",
    "    print('you are a gentleman')\n",
    "else:\n",
    "    print('who are  you')\n"
   ]
  },
  {
   "cell_type": "markdown",
   "metadata": {},
   "source": [
    ". count\n",
    ". strip\n",
    ". spilt \n",
    ". join"
   ]
  },
  {
   "cell_type": "code",
   "execution_count": 6,
   "metadata": {},
   "outputs": [
    {
     "name": "stdout",
     "output_type": "stream",
     "text": [
      "3\n"
     ]
    }
   ],
   "source": [
    "msg = \"La La Land\"\n",
    "print(msg.count('La'))"
   ]
  },
  {
   "cell_type": "code",
   "execution_count": 17,
   "metadata": {},
   "outputs": [
    {
     "name": "stdout",
     "output_type": "stream",
     "text": [
      "p occrred 7 times\n"
     ]
    }
   ],
   "source": [
    "msg2 =\"peter picked a peck of pickled peppers\"\n",
    "cp = msg2.count('p')\n",
    "print(f'p occrred {cp} times') variable or string both are mix in this line"
   ]
  },
  {
   "cell_type": "code",
   "execution_count": 22,
   "metadata": {},
   "outputs": [
    {
     "name": "stdout",
     "output_type": "stream",
     "text": [
      "a 1\n",
      "b 0\n",
      "c 3\n",
      "d 2\n",
      "e 7\n",
      "f 1\n",
      "g 0\n",
      "h 0\n",
      "i 2\n",
      "j 0\n",
      "k 3\n",
      "l 1\n",
      "m 0\n",
      "n 0\n",
      "o 1\n",
      "p 7\n",
      "q 0\n",
      "r 2\n",
      "s 1\n",
      "t 1\n",
      "u 0\n",
      "v 0\n",
      "w 0\n",
      "x 0\n",
      "y 0\n",
      "z 0\n"
     ]
    }
   ],
   "source": [
    "from string import ascii_lowercase\n",
    "for letter in ascii_lowercase:\n",
    "    print(letter, msg2.count(letter))"
   ]
  },
  {
   "cell_type": "code",
   "execution_count": 23,
   "metadata": {},
   "outputs": [
    {
     "name": "stdout",
     "output_type": "stream",
     "text": [
      "a occured 1 times\n",
      "c occured 3 times\n",
      "d occured 2 times\n",
      "e occured 7 times\n",
      "f occured 1 times\n",
      "i occured 2 times\n",
      "k occured 3 times\n",
      "l occured 1 times\n",
      "o occured 1 times\n",
      "p occured 7 times\n",
      "r occured 2 times\n",
      "s occured 1 times\n",
      "t occured 1 times\n"
     ]
    }
   ],
   "source": [
    "for i in ascii_lowercase:\n",
    "    c = msg2.count(i)\n",
    "    if c > 0: print(f'{i} occured {c} times')"
   ]
  },
  {
   "cell_type": "code",
   "execution_count": 7,
   "metadata": {},
   "outputs": [
    {
     "name": "stdout",
     "output_type": "stream",
     "text": [
      "word='ola Amigos   ' & length = 13\n"
     ]
    }
   ],
   "source": [
    "word = \"ola Amigos   \"\n",
    "print(f'{word=} & length = {len(word)}')"
   ]
  },
  {
   "cell_type": "code",
   "execution_count": 8,
   "metadata": {},
   "outputs": [
    {
     "name": "stdout",
     "output_type": "stream",
     "text": [
      "word='ola Amigos' & length = 10\n"
     ]
    }
   ],
   "source": [
    "word = word.strip()\n",
    "print(f'{word=} & length = {len(word)}')"
   ]
  },
  {
   "cell_type": "code",
   "execution_count": 37,
   "metadata": {},
   "outputs": [
    {
     "data": {
      "text/plain": [
       "' \\nraju\\n\\n'"
      ]
     },
     "execution_count": 37,
     "metadata": {},
     "output_type": "execute_result"
    }
   ],
   "source": [
    "a = ''' \n",
    "raju\n",
    "\n",
    "'''\n",
    "a"
   ]
  },
  {
   "cell_type": "code",
   "execution_count": 38,
   "metadata": {},
   "outputs": [
    {
     "name": "stdout",
     "output_type": "stream",
     "text": [
      " \n",
      "raju\n",
      "\n",
      " 8\n",
      "raju 4\n"
     ]
    }
   ],
   "source": [
    "print(a,len(a))\n",
    "a = a.strip()\n",
    "print(a, len(a))"
   ]
  },
  {
   "cell_type": "code",
   "execution_count": 9,
   "metadata": {},
   "outputs": [
    {
     "name": "stdout",
     "output_type": "stream",
     "text": [
      "  yguhji    11\n",
      "yguhji 6\n",
      "yguhji    9\n",
      "  yguhji 8\n"
     ]
    }
   ],
   "source": [
    "name = input(\"enter name:\")\n",
    "print(name, len(name))\n",
    "print(name.strip(), len(name.strip()))\n",
    "print(name.lstrip(), len(name.lstrip()))\n",
    "print(name.rstrip(), len(name.rstrip()))"
   ]
  },
  {
   "cell_type": "code",
   "execution_count": 6,
   "metadata": {},
   "outputs": [
    {
     "name": "stdout",
     "output_type": "stream",
     "text": [
      "Alex\n",
      "John\n",
      "Mary\n",
      "Sam\n",
      "Tom\n"
     ]
    }
   ],
   "source": [
    "dirty_data = ['Alex ', ' John ',' Mary ','Sam ',' Tom ']\n",
    "for name in dirty_data:\n",
    "    print(name.strip())"
   ]
  },
  {
   "cell_type": "code",
   "execution_count": 10,
   "metadata": {},
   "outputs": [
    {
     "name": "stdout",
     "output_type": "stream",
     "text": [
      "['There', 'is', 'a', 'place', 'with', 'a', 'very', 'long', 'name'] 9\n"
     ]
    }
   ],
   "source": [
    "msg = \"There is a place with a very long name\"\n",
    "word = msg.split()\n",
    "print(word, len(word))"
   ]
  },
  {
   "cell_type": "code",
   "execution_count": 2,
   "metadata": {},
   "outputs": [
    {
     "data": {
      "text/plain": [
       "['Alpha', ' Beta', 'Gamma', 'Delta', 'Epsilon']"
      ]
     },
     "execution_count": 2,
     "metadata": {},
     "output_type": "execute_result"
    }
   ],
   "source": [
    "msg2 = \"Alpha, Beta,Gamma,Delta,Epsilon\"\n",
    "msg2.split(',')"
   ]
  },
  {
   "cell_type": "code",
   "execution_count": 11,
   "metadata": {},
   "outputs": [],
   "source": [
    "msg3 = 'This is sparta. This is Goa. This is Delhi'\n"
   ]
  },
  {
   "cell_type": "code",
   "execution_count": 16,
   "metadata": {},
   "outputs": [
    {
     "data": {
      "text/plain": [
       "['This is sparta', 'This is Goa', 'This is Delhi']"
      ]
     },
     "execution_count": 16,
     "metadata": {},
     "output_type": "execute_result"
    }
   ],
   "source": [
    "msg3.split('. ')"
   ]
  },
  {
   "cell_type": "code",
   "execution_count": 23,
   "metadata": {},
   "outputs": [
    {
     "name": "stdout",
     "output_type": "stream",
     "text": [
      "['hi', 'there', 'how', 'are', 'you', '?']\n"
     ]
    }
   ],
   "source": [
    "words = ['hi', 'there', 'how', 'are', 'you', '?']\n",
    "print(words)"
   ]
  },
  {
   "cell_type": "code",
   "execution_count": 24,
   "metadata": {},
   "outputs": [
    {
     "name": "stdout",
     "output_type": "stream",
     "text": [
      "hi there how are you ?\n"
     ]
    }
   ],
   "source": [
    "msg = ' '.join(words)\n",
    "print(msg)"
   ]
  }
 ],
 "metadata": {
  "kernelspec": {
   "display_name": "Python 3",
   "language": "python",
   "name": "python3"
  },
  "language_info": {
   "codemirror_mode": {
    "name": "ipython",
    "version": 3
   },
   "file_extension": ".py",
   "mimetype": "text/x-python",
   "name": "python",
   "nbconvert_exporter": "python",
   "pygments_lexer": "ipython3",
   "version": "3.11.0"
  },
  "orig_nbformat": 4,
  "vscode": {
   "interpreter": {
    "hash": "5238573367df39f7286bb46f9ff5f08f63a01a80960060ce41e3c79b190280fa"
   }
  }
 },
 "nbformat": 4,
 "nbformat_minor": 2
}
