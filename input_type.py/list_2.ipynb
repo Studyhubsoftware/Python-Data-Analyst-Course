{
 "cells": [
  {
   "cell_type": "code",
   "execution_count": 79,
   "metadata": {},
   "outputs": [],
   "source": [
    "from random import randint"
   ]
  },
  {
   "cell_type": "code",
   "execution_count": 80,
   "metadata": {},
   "outputs": [],
   "source": [
    "x = []\n",
    "for i in range(25):\n",
    "    x.append(randint(1,100))"
   ]
  },
  {
   "cell_type": "code",
   "execution_count": 81,
   "metadata": {},
   "outputs": [],
   "source": [
    "val = 84 \n",
    "if val in x:\n",
    "    x.remove(val)"
   ]
  },
  {
   "cell_type": "code",
   "execution_count": 82,
   "metadata": {},
   "outputs": [
    {
     "ename": "ValueError",
     "evalue": "81 is not in list",
     "output_type": "error",
     "traceback": [
      "\u001b[1;31m---------------------------------------------------------------------------\u001b[0m",
      "\u001b[1;31mValueError\u001b[0m                                Traceback (most recent call last)",
      "Cell \u001b[1;32mIn[82], line 1\u001b[0m\n\u001b[1;32m----> 1\u001b[0m x\u001b[39m.\u001b[39;49mindex(\u001b[39m81\u001b[39;49m)\n",
      "\u001b[1;31mValueError\u001b[0m: 81 is not in list"
     ]
    }
   ],
   "source": [
    "x.index(81)\n"
   ]
  },
  {
   "cell_type": "code",
   "execution_count": 83,
   "metadata": {},
   "outputs": [
    {
     "data": {
      "text/plain": [
       "28"
      ]
     },
     "execution_count": 83,
     "metadata": {},
     "output_type": "execute_result"
    }
   ],
   "source": [
    "x.pop(11) # "
   ]
  },
  {
   "cell_type": "code",
   "execution_count": 84,
   "metadata": {},
   "outputs": [
    {
     "name": "stdout",
     "output_type": "stream",
     "text": [
      "[4, 6, 6, 7, 10, 13, 14, 16, 16, 19, 20, 22, 48, 56, 60, 66, 75, 79, 85, 86, 86, 90, 96]\n"
     ]
    }
   ],
   "source": [
    "x.sort() # ascending order\n",
    "print(x)\n"
   ]
  },
  {
   "cell_type": "code",
   "execution_count": 85,
   "metadata": {},
   "outputs": [
    {
     "name": "stdout",
     "output_type": "stream",
     "text": [
      "[96, 90, 86, 86, 85, 79, 75, 66, 60, 56, 48, 22, 20, 19, 16, 16, 14, 13, 10, 7, 6, 6, 4]\n"
     ]
    }
   ],
   "source": [
    "x.sort(reverse=True) # descending order\n",
    "print(x)"
   ]
  },
  {
   "cell_type": "code",
   "execution_count": 86,
   "metadata": {},
   "outputs": [
    {
     "data": {
      "text/plain": [
       "0"
      ]
     },
     "execution_count": 86,
     "metadata": {},
     "output_type": "execute_result"
    }
   ],
   "source": [
    "x.count(95)"
   ]
  },
  {
   "cell_type": "code",
   "execution_count": null,
   "metadata": {},
   "outputs": [
    {
     "data": {
      "text/plain": [
       "[100,\n",
       " 95,\n",
       " 95,\n",
       " 94,\n",
       " 90,\n",
       " 83,\n",
       " 82,\n",
       " 78,\n",
       " 62,\n",
       " 62,\n",
       " 54,\n",
       " 51,\n",
       " 50,\n",
       " 49,\n",
       " 47,\n",
       " 43,\n",
       " 32,\n",
       " 28,\n",
       " 23,\n",
       " 14,\n",
       " 14,\n",
       " 10,\n",
       " 4,\n",
       " 3]"
      ]
     },
     "execution_count": 16,
     "metadata": {},
     "output_type": "execute_result"
    }
   ],
   "source": [
    "x.copy()"
   ]
  },
  {
   "cell_type": "code",
   "execution_count": null,
   "metadata": {},
   "outputs": [
    {
     "name": "stdout",
     "output_type": "stream",
     "text": [
      "[1, 2, 4, 5, 15]\n",
      "[1, 2, 4, 5, 15]\n",
      "[1, 2, 3, 4, 5, 10]\n",
      "True\n",
      "False\n",
      "False\n"
     ]
    }
   ],
   "source": [
    "x =[1, 2, 3, 4, 5]\n",
    "y = x\n",
    "z = x.copy()\n",
    "y.append(15)\n",
    "x.remove(3)\n",
    "z.append(10)\n",
    "print(x)\n",
    "print(y)\n",
    "print(z)\n",
    "print(x is y)\n",
    "print(x is z)\n",
    "print(y is z)\n"
   ]
  },
  {
   "cell_type": "code",
   "execution_count": null,
   "metadata": {},
   "outputs": [],
   "source": [
    "x.clear()"
   ]
  },
  {
   "cell_type": "code",
   "execution_count": null,
   "metadata": {},
   "outputs": [
    {
     "data": {
      "text/plain": [
       "[]"
      ]
     },
     "execution_count": 21,
     "metadata": {},
     "output_type": "execute_result"
    }
   ],
   "source": [
    "x"
   ]
  },
  {
   "attachments": {},
   "cell_type": "markdown",
   "metadata": {},
   "source": [
    "### Questions\n",
    "- wap to count all the number greater than 50 in a list of 100 elements"
   ]
  },
  {
   "cell_type": "code",
   "execution_count": 41,
   "metadata": {},
   "outputs": [
    {
     "name": "stdout",
     "output_type": "stream",
     "text": [
      "[84, 29, 16, 36, 1, 42, 44, 39, 50, 24, 16, 22, 16, 30, 25, 2, 97, 88, 94, 92, 32, 22, 69, 67, 16, 81, 85, 79, 6, 7, 76, 30, 93, 25, 97, 85, 30, 67, 8, 24, 30, 97, 93, 5, 38, 79, 36, 90, 19, 43, 80, 51, 16, 100, 52, 35, 77, 35, 73, 41, 35, 29, 83, 50, 44, 29, 66, 63, 90, 71, 37, 19, 59, 51, 61, 15, 64, 33, 28, 56, 33, 74, 33, 27, 17, 99, 97, 74, 81, 78, 91, 34, 74, 81, 66, 32, 38, 11, 70, 16]\n"
     ]
    }
   ],
   "source": [
    "x = []\n",
    "for _ in range(100):\n",
    "    x.append(randint(1, 100))\n",
    "print(x)"
   ]
  },
  {
   "cell_type": "code",
   "execution_count": 42,
   "metadata": {},
   "outputs": [
    {
     "name": "stdout",
     "output_type": "stream",
     "text": [
      "we have 48 numbers >= 50\n"
     ]
    }
   ],
   "source": [
    "c50 = 0\n",
    "for i in x:\n",
    "    if i >= 50:\n",
    "        c50 += 1\n",
    "print(f'we have {c50} numbers >= 50')"
   ]
  },
  {
   "attachments": {},
   "cell_type": "markdown",
   "metadata": {},
   "source": [
    "- Add all the numbers that are less than equal to 25 & display the result"
   ]
  },
  {
   "cell_type": "code",
   "execution_count": 52,
   "metadata": {},
   "outputs": [
    {
     "name": "stdout",
     "output_type": "stream",
     "text": [
      "348\n"
     ]
    }
   ],
   "source": [
    "sub25 = [i for i in x if i <= 25]\n",
    "print(sum(sub25))"
   ]
  },
  {
   "cell_type": "code",
   "execution_count": null,
   "metadata": {},
   "outputs": [],
   "source": [
    "list"
   ]
  },
  {
   "cell_type": "code",
   "execution_count": 53,
   "metadata": {},
   "outputs": [
    {
     "name": "stdout",
     "output_type": "stream",
     "text": [
      "348\n"
     ]
    }
   ],
   "source": [
    "add50 = [i for i in x if i <= 25]\n",
    "print(sum(add50))"
   ]
  },
  {
   "cell_type": "code",
   "execution_count": 56,
   "metadata": {},
   "outputs": [
    {
     "name": "stdout",
     "output_type": "stream",
     "text": [
      "[11, 12, 13, 14, 15]\n"
     ]
    }
   ],
   "source": [
    "x = [1, 2, 3, 4, 5]\n",
    "x2= []\n",
    "for i in x:\n",
    "    x2.append(i + 10)\n",
    "print(x2)    "
   ]
  },
  {
   "cell_type": "code",
   "execution_count": 59,
   "metadata": {},
   "outputs": [
    {
     "name": "stdout",
     "output_type": "stream",
     "text": [
      "[11, 23, 42, 62, 12, 56, 67, 23, 65]\n",
      "[11, 23, 67, 23, 65]\n"
     ]
    }
   ],
   "source": [
    "y = [11, 23, 42, 62, 12, 56, 67, 23, 65]\n",
    "yodd = []\n",
    "for i in y:\n",
    "    if i % 2 != 0:\n",
    "        yodd.append(i)\n",
    "print(y) \n",
    "print(yodd)       \n"
   ]
  },
  {
   "cell_type": "code",
   "execution_count": 62,
   "metadata": {},
   "outputs": [
    {
     "name": "stdout",
     "output_type": "stream",
     "text": [
      "[1, 2, 3, 4, 5]\n",
      "[1, 16, 81, 256, 625]\n"
     ]
    }
   ],
   "source": [
    "xcubes = [i**4 for i in x]\n",
    "print(x)\n",
    "print(xcubes)"
   ]
  },
  {
   "attachments": {},
   "cell_type": "markdown",
   "metadata": {},
   "source": [
    "- create a list of squares of only even numbers from an existing list"
   ]
  },
  {
   "cell_type": "code",
   "execution_count": 70,
   "metadata": {},
   "outputs": [
    {
     "name": "stdout",
     "output_type": "stream",
     "text": [
      "[2, 4, 6, 8, 10]\n"
     ]
    }
   ],
   "source": [
    "xsquares = [i*2 for i in x]\n",
    "\n",
    "print(xsquares)\n"
   ]
  },
  {
   "cell_type": "code",
   "execution_count": 75,
   "metadata": {},
   "outputs": [
    {
     "ename": "SyntaxError",
     "evalue": "expected ':' (2420929499.py, line 3)",
     "output_type": "error",
     "traceback": [
      "\u001b[1;36m  Cell \u001b[1;32mIn[75], line 3\u001b[1;36m\u001b[0m\n\u001b[1;33m    if i**2 != 0\u001b[0m\n\u001b[1;37m                ^\u001b[0m\n\u001b[1;31mSyntaxError\u001b[0m\u001b[1;31m:\u001b[0m expected ':'\n"
     ]
    }
   ],
   "source": [
    "xsquares = []\n",
    "for i in x:\n",
    "    if i**2 != 0\n",
    "    squares.append(i**2)\n",
    "print(xsquares)    "
   ]
  }
 ],
 "metadata": {
  "kernelspec": {
   "display_name": "Python 3",
   "language": "python",
   "name": "python3"
  },
  "language_info": {
   "codemirror_mode": {
    "name": "ipython",
    "version": 3
   },
   "file_extension": ".py",
   "mimetype": "text/x-python",
   "name": "python",
   "nbconvert_exporter": "python",
   "pygments_lexer": "ipython3",
   "version": "3.11.0"
  },
  "orig_nbformat": 4,
  "vscode": {
   "interpreter": {
    "hash": "5238573367df39f7286bb46f9ff5f08f63a01a80960060ce41e3c79b190280fa"
   }
  }
 },
 "nbformat": 4,
 "nbformat_minor": 2
}
