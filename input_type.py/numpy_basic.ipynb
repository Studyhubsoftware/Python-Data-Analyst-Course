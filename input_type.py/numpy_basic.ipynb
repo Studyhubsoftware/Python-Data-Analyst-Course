{
 "cells": [
  {
   "cell_type": "code",
   "execution_count": 3,
   "metadata": {},
   "outputs": [],
   "source": [
    "# pip install numpy\n",
    "import numpy as np"
   ]
  },
  {
   "cell_type": "markdown",
   "metadata": {},
   "source": [
    "creating a  numpy array"
   ]
  },
  {
   "cell_type": "code",
   "execution_count": 4,
   "metadata": {},
   "outputs": [],
   "source": [
    "x = [1, 2, 3, 4, 5]\n",
    "nx = np.array(x)"
   ]
  },
  {
   "cell_type": "code",
   "execution_count": 5,
   "metadata": {},
   "outputs": [
    {
     "data": {
      "text/plain": [
       "1"
      ]
     },
     "execution_count": 5,
     "metadata": {},
     "output_type": "execute_result"
    }
   ],
   "source": [
    "nx.ndim"
   ]
  },
  {
   "cell_type": "code",
   "execution_count": 6,
   "metadata": {},
   "outputs": [],
   "source": [
    "y = [[1,2,3],[4,5,6]]\n",
    "ny = np.array(y)"
   ]
  },
  {
   "cell_type": "code",
   "execution_count": 12,
   "metadata": {},
   "outputs": [
    {
     "data": {
      "text/plain": [
       "2"
      ]
     },
     "execution_count": 12,
     "metadata": {},
     "output_type": "execute_result"
    }
   ],
   "source": [
    "ny.ndim"
   ]
  },
  {
   "cell_type": "code",
   "execution_count": 7,
   "metadata": {},
   "outputs": [
    {
     "name": "stdout",
     "output_type": "stream",
     "text": [
      "[1 2 3 4 5]\n",
      "[[1 2 3]\n",
      " [4 5 6]]\n"
     ]
    }
   ],
   "source": [
    "print(nx)\n",
    "print(ny)"
   ]
  },
  {
   "cell_type": "code",
   "execution_count": 8,
   "metadata": {},
   "outputs": [
    {
     "name": "stdout",
     "output_type": "stream",
     "text": [
      "[[1 2 3]\n",
      " [4 5 6]\n",
      " [7 8 9]]\n"
     ]
    }
   ],
   "source": [
    "nz = np.array([[1,2,3],[4,5,6],[7,8,9]])\n",
    "print(nz)"
   ]
  },
  {
   "cell_type": "code",
   "execution_count": 9,
   "metadata": {},
   "outputs": [
    {
     "data": {
      "text/plain": [
       "2"
      ]
     },
     "execution_count": 9,
     "metadata": {},
     "output_type": "execute_result"
    }
   ],
   "source": [
    "nz.ndim"
   ]
  },
  {
   "cell_type": "code",
   "execution_count": 10,
   "metadata": {},
   "outputs": [
    {
     "data": {
      "text/plain": [
       "(5,)"
      ]
     },
     "execution_count": 10,
     "metadata": {},
     "output_type": "execute_result"
    }
   ],
   "source": [
    "nx.shape"
   ]
  },
  {
   "cell_type": "code",
   "execution_count": 11,
   "metadata": {},
   "outputs": [
    {
     "data": {
      "text/plain": [
       "(2, 3)"
      ]
     },
     "execution_count": 11,
     "metadata": {},
     "output_type": "execute_result"
    }
   ],
   "source": [
    "ny.shape"
   ]
  },
  {
   "cell_type": "code",
   "execution_count": 16,
   "metadata": {},
   "outputs": [
    {
     "data": {
      "text/plain": [
       "(3, 3)"
      ]
     },
     "execution_count": 16,
     "metadata": {},
     "output_type": "execute_result"
    }
   ],
   "source": [
    "nz.shape"
   ]
  },
  {
   "cell_type": "code",
   "execution_count": 17,
   "metadata": {},
   "outputs": [
    {
     "name": "stdout",
     "output_type": "stream",
     "text": [
      "[  0.  25.  50.  75. 100.]\n"
     ]
    }
   ],
   "source": [
    "y =np.linspace(0,100,5)\n",
    "print(y)"
   ]
  },
  {
   "cell_type": "code",
   "execution_count": 12,
   "metadata": {},
   "outputs": [
    {
     "name": "stdout",
     "output_type": "stream",
     "text": [
      "[0.4120193  0.06764944 0.29708666 0.64141405 0.4954619  0.01976682]\n"
     ]
    }
   ],
   "source": [
    "a = np.random.rand(6)\n",
    "print(a)"
   ]
  },
  {
   "cell_type": "code",
   "execution_count": null,
   "metadata": {},
   "outputs": [],
   "source": []
  },
  {
   "cell_type": "code",
   "execution_count": 13,
   "metadata": {},
   "outputs": [
    {
     "name": "stdout",
     "output_type": "stream",
     "text": [
      "[[0.42870404 0.11950374 0.53826174]\n",
      " [0.59651987 0.65126507 0.47134356]\n",
      " [0.13114322 0.11983017 0.78564726]]\n"
     ]
    }
   ],
   "source": [
    "b = np.random.rand(3,3)\n",
    "print(b)"
   ]
  },
  {
   "cell_type": "code",
   "execution_count": 14,
   "metadata": {},
   "outputs": [
    {
     "name": "stdout",
     "output_type": "stream",
     "text": [
      "[[89 27 83]\n",
      " [93  9 27]\n",
      " [49 29 27]]\n"
     ]
    }
   ],
   "source": [
    "c = np.random.randint(0, 101, (3,3))\n",
    "print(c)"
   ]
  },
  {
   "cell_type": "code",
   "execution_count": 15,
   "metadata": {},
   "outputs": [
    {
     "name": "stdout",
     "output_type": "stream",
     "text": [
      "[['❌' '❌' '❌']\n",
      " ['❌' '❌' '⭕']\n",
      " ['⭕' '⭕' '⭕']]\n"
     ]
    }
   ],
   "source": [
    "d = np.random.choice(['❌','⭕'], (3,3))\n",
    "print(d)"
   ]
  },
  {
   "cell_type": "code",
   "execution_count": 16,
   "metadata": {},
   "outputs": [
    {
     "name": "stdout",
     "output_type": "stream",
     "text": [
      "[[1 1 1]\n",
      " [1 1 1]\n",
      " [1 1 1]]\n"
     ]
    }
   ],
   "source": [
    "o=np.ones((3,3), dtype=int)\n",
    "print(o)"
   ]
  },
  {
   "cell_type": "code",
   "execution_count": 17,
   "metadata": {},
   "outputs": [
    {
     "name": "stdout",
     "output_type": "stream",
     "text": [
      "[[1 0 0 0 0 0]\n",
      " [0 1 0 0 0 0]\n",
      " [0 0 1 0 0 0]\n",
      " [0 0 0 1 0 0]\n",
      " [0 0 0 0 1 0]\n",
      " [0 0 0 0 0 1]]\n"
     ]
    }
   ],
   "source": [
    "e =np.eye(6, dtype=int)\n",
    "print(e)"
   ]
  },
  {
   "cell_type": "code",
   "execution_count": 18,
   "metadata": {},
   "outputs": [
    {
     "data": {
      "text/plain": [
       "array([[1, 0, 0, 0, 0],\n",
       "       [0, 2, 0, 0, 0],\n",
       "       [0, 0, 3, 0, 0],\n",
       "       [0, 0, 0, 4, 0],\n",
       "       [0, 0, 0, 0, 5]])"
      ]
     },
     "execution_count": 18,
     "metadata": {},
     "output_type": "execute_result"
    }
   ],
   "source": [
    "np.diag(nx)"
   ]
  },
  {
   "cell_type": "code",
   "execution_count": 19,
   "metadata": {},
   "outputs": [
    {
     "data": {
      "text/plain": [
       "array([[89, 93, 49],\n",
       "       [27,  9, 29],\n",
       "       [83, 27, 27]])"
      ]
     },
     "execution_count": 19,
     "metadata": {},
     "output_type": "execute_result"
    }
   ],
   "source": [
    "c.transpose()"
   ]
  },
  {
   "cell_type": "code",
   "execution_count": 20,
   "metadata": {},
   "outputs": [
    {
     "name": "stdout",
     "output_type": "stream",
     "text": [
      "[[89 27 83]\n",
      " [93  9 27]\n",
      " [49 29 27]]\n",
      "\n",
      "[[89 93 49]\n",
      " [27  9 29]\n",
      " [83 27 27]]\n"
     ]
    }
   ],
   "source": [
    "print(c)\n",
    "print()\n",
    "print(c.T)"
   ]
  },
  {
   "cell_type": "code",
   "execution_count": 21,
   "metadata": {},
   "outputs": [
    {
     "data": {
      "text/plain": [
       "9"
      ]
     },
     "execution_count": 21,
     "metadata": {},
     "output_type": "execute_result"
    }
   ],
   "source": [
    "c.size # number of elements"
   ]
  },
  {
   "cell_type": "code",
   "execution_count": 22,
   "metadata": {},
   "outputs": [
    {
     "data": {
      "text/plain": [
       "dtype('int32')"
      ]
     },
     "execution_count": 22,
     "metadata": {},
     "output_type": "execute_result"
    }
   ],
   "source": [
    "c.dtype"
   ]
  },
  {
   "cell_type": "code",
   "execution_count": 23,
   "metadata": {},
   "outputs": [],
   "source": [
    "x = np.array([[6,9],[6,9]])\n",
    "y = np.array([[3,2],[1,3]])"
   ]
  },
  {
   "cell_type": "code",
   "execution_count": 24,
   "metadata": {},
   "outputs": [
    {
     "data": {
      "text/plain": [
       "array([[ 9, 11],\n",
       "       [ 7, 12]])"
      ]
     },
     "execution_count": 24,
     "metadata": {},
     "output_type": "execute_result"
    }
   ],
   "source": [
    "(x+y)"
   ]
  },
  {
   "cell_type": "code",
   "execution_count": 25,
   "metadata": {},
   "outputs": [
    {
     "data": {
      "text/plain": [
       "array([[11, 14],\n",
       "       [11, 14]])"
      ]
     },
     "execution_count": 25,
     "metadata": {},
     "output_type": "execute_result"
    }
   ],
   "source": [
    "x + 5 "
   ]
  },
  {
   "cell_type": "code",
   "execution_count": 26,
   "metadata": {},
   "outputs": [
    {
     "data": {
      "text/plain": [
       "array([[27, 39],\n",
       "       [27, 39]])"
      ]
     },
     "execution_count": 26,
     "metadata": {},
     "output_type": "execute_result"
    }
   ],
   "source": [
    "x.dot(y)"
   ]
  },
  {
   "cell_type": "code",
   "execution_count": 27,
   "metadata": {},
   "outputs": [
    {
     "data": {
      "text/plain": [
       "array([[18, 18],\n",
       "       [ 6, 27]])"
      ]
     },
     "execution_count": 27,
     "metadata": {},
     "output_type": "execute_result"
    }
   ],
   "source": [
    "x*y"
   ]
  },
  {
   "cell_type": "code",
   "execution_count": 28,
   "metadata": {},
   "outputs": [
    {
     "data": {
      "text/plain": [
       "array([-15,   9])"
      ]
     },
     "execution_count": 28,
     "metadata": {},
     "output_type": "execute_result"
    }
   ],
   "source": [
    "np.cross(x,y)"
   ]
  },
  {
   "cell_type": "code",
   "execution_count": 29,
   "metadata": {},
   "outputs": [
    {
     "data": {
      "text/plain": [
       "array([[-0.2794155 ,  0.41211849],\n",
       "       [-0.2794155 ,  0.41211849]])"
      ]
     },
     "execution_count": 29,
     "metadata": {},
     "output_type": "execute_result"
    }
   ],
   "source": [
    "np.sin(x)"
   ]
  },
  {
   "cell_type": "code",
   "execution_count": 30,
   "metadata": {},
   "outputs": [
    {
     "data": {
      "text/plain": [
       "2"
      ]
     },
     "execution_count": 30,
     "metadata": {},
     "output_type": "execute_result"
    }
   ],
   "source": [
    "y.argmin()"
   ]
  },
  {
   "cell_type": "code",
   "execution_count": 31,
   "metadata": {},
   "outputs": [
    {
     "data": {
      "text/plain": [
       "array([[3, 2],\n",
       "       [1, 3]])"
      ]
     },
     "execution_count": 31,
     "metadata": {},
     "output_type": "execute_result"
    }
   ],
   "source": [
    "y"
   ]
  },
  {
   "cell_type": "code",
   "execution_count": 32,
   "metadata": {},
   "outputs": [
    {
     "data": {
      "text/plain": [
       "9"
      ]
     },
     "execution_count": 32,
     "metadata": {},
     "output_type": "execute_result"
    }
   ],
   "source": [
    "x.max()"
   ]
  },
  {
   "cell_type": "code",
   "execution_count": 33,
   "metadata": {},
   "outputs": [
    {
     "data": {
      "text/plain": [
       "array([[-51,  68, -21,  56, -86],\n",
       "       [ 97, -35, -43, -44,  63],\n",
       "       [-23, -84,  71, -18,  92],\n",
       "       [ 44, -83,  50, -69, -62],\n",
       "       [-76, -55, -39,  90, -51]])"
      ]
     },
     "execution_count": 33,
     "metadata": {},
     "output_type": "execute_result"
    }
   ],
   "source": [
    "r=np.random.randint(-101,101,(5,5))\n",
    "r"
   ]
  },
  {
   "cell_type": "code",
   "execution_count": 34,
   "metadata": {},
   "outputs": [
    {
     "data": {
      "text/plain": [
       "(97, -86)"
      ]
     },
     "execution_count": 34,
     "metadata": {},
     "output_type": "execute_result"
    }
   ],
   "source": [
    "r.max(), r.min()"
   ]
  },
  {
   "cell_type": "code",
   "execution_count": 35,
   "metadata": {},
   "outputs": [
    {
     "name": "stdout",
     "output_type": "stream",
     "text": [
      "-209 -8.36 62.35567656597112 3888.2304 430964736\n"
     ]
    }
   ],
   "source": [
    "print(r.sum(), r.mean(), r.std(), r.var(), r.prod())"
   ]
  },
  {
   "cell_type": "code",
   "execution_count": 36,
   "metadata": {},
   "outputs": [
    {
     "name": "stdout",
     "output_type": "stream",
     "text": [
      "[[56 83 95]\n",
      " [46 73 22]\n",
      " [62 57  1]]\n",
      "\n",
      "[[63 47 38]\n",
      " [87 82 53]\n",
      " [44 47 48]]\n"
     ]
    }
   ],
   "source": [
    "x=np.random.randint(0,101,(3,3))\n",
    "y=np.random.randint(0,101,(3,3))\n",
    "print(x,y, sep='\\n\\n')"
   ]
  },
  {
   "cell_type": "code",
   "execution_count": 37,
   "metadata": {},
   "outputs": [
    {
     "data": {
      "text/plain": [
       "array([[3528, 3901, 3610],\n",
       "       [4002, 5986, 1166],\n",
       "       [2728, 2679,   48]])"
      ]
     },
     "execution_count": 37,
     "metadata": {},
     "output_type": "execute_result"
    }
   ],
   "source": [
    "x*y # hadamard product"
   ]
  },
  {
   "cell_type": "code",
   "execution_count": 38,
   "metadata": {},
   "outputs": [
    {
     "data": {
      "text/plain": [
       "array([[14929, 13903, 11087],\n",
       "       [10217,  9182,  6673],\n",
       "       [ 8909,  7635,  5425]])"
      ]
     },
     "execution_count": 38,
     "metadata": {},
     "output_type": "execute_result"
    }
   ],
   "source": [
    "x @ y # matrix product (dot product)"
   ]
  },
  {
   "attachments": {},
   "cell_type": "markdown",
   "metadata": {},
   "source": [
    "# numpy slicing (in 2D array)\n",
    "```\n",
    "arr[row_start:row_end, col_start:col_end]\n",
    "```"
   ]
  },
  {
   "cell_type": "code",
   "execution_count": 47,
   "metadata": {},
   "outputs": [
    {
     "data": {
      "text/plain": [
       "array([[75, 31, 48, 40, 89],\n",
       "       [12, 99, 85, 71, 72],\n",
       "       [97, 70, 60, 93, 41],\n",
       "       [64, 86, 74, 25, 66],\n",
       "       [58, 62, 59, 12, 17],\n",
       "       [66, 89, 32, 73, 55],\n",
       "       [65, 19, 22, 74, 21],\n",
       "       [26, 53, 11, 81, 49],\n",
       "       [54, 85, 52, 70, 92],\n",
       "       [84, 98, 55, 78, 53]])"
      ]
     },
     "execution_count": 47,
     "metadata": {},
     "output_type": "execute_result"
    }
   ],
   "source": [
    "# 10 * 5 matrix\n",
    "a = np.random.randint(10, 100, (10,5))\n",
    "a"
   ]
  },
  {
   "cell_type": "code",
   "execution_count": 40,
   "metadata": {},
   "outputs": [
    {
     "name": "stdout",
     "output_type": "stream",
     "text": [
      "[[55 90 90 57 17]\n",
      " [79 82 46 29 85]\n",
      " [30 33 40 17 56]\n",
      " [90 89 81 72 95]\n",
      " [30 62 72 74 81]]\n",
      "[[92 84 25 87 46]\n",
      " [12 83 26 96 23]\n",
      " [47 67 68 44 47]]\n"
     ]
    }
   ],
   "source": [
    "# top 5 rows\n",
    "print(a[:5])\n",
    "# last 3 rows\n",
    "print(a[-3:])"
   ]
  },
  {
   "cell_type": "code",
   "execution_count": 41,
   "metadata": {},
   "outputs": [
    {
     "name": "stdout",
     "output_type": "stream",
     "text": [
      "[90 82 33 89 62 37 18 84 83 67]\n",
      "[[55 90 90]\n",
      " [79 82 46]\n",
      " [30 33 40]\n",
      " [90 89 81]\n",
      " [30 62 72]\n",
      " [36 37 78]\n",
      " [48 18 65]\n",
      " [92 84 25]\n",
      " [12 83 26]\n",
      " [47 67 68]]\n",
      "[[90 57 17]\n",
      " [46 29 85]\n",
      " [40 17 56]\n",
      " [81 72 95]\n",
      " [72 74 81]\n",
      " [78 89 15]\n",
      " [65 14 15]\n",
      " [25 87 46]\n",
      " [26 96 23]\n",
      " [68 44 47]]\n",
      "[[55 90 17]\n",
      " [79 46 85]\n",
      " [30 40 56]\n",
      " [90 81 95]\n",
      " [30 72 81]\n",
      " [36 78 15]\n",
      " [48 65 15]\n",
      " [92 25 46]\n",
      " [12 26 23]\n",
      " [47 68 47]]\n",
      "[[55 90 90]\n",
      " [79 82 46]\n",
      " [30 33 40]\n",
      " [90 89 81]\n",
      " [30 62 72]]\n"
     ]
    }
   ],
   "source": [
    "# 1 column\n",
    "print(a[:,1])\n",
    "# first 3 columns \n",
    "print(a[:,:3])\n",
    "# last 3 columns\n",
    "print(a[:, -3:])\n",
    "# 0,2,4 columns\n",
    "print(a[:,[0,2,4]])\n",
    "# first 5 row, first 3 columns\n",
    "print(a[:5, :3])\n"
   ]
  },
  {
   "cell_type": "code",
   "execution_count": 42,
   "metadata": {},
   "outputs": [
    {
     "name": "stdout",
     "output_type": "stream",
     "text": [
      "[90 82 33 89 62 37 18 84 83 67]\n",
      "[[55 90 90]\n",
      " [79 82 46]\n",
      " [30 33 40]\n",
      " [90 89 81]\n",
      " [30 62 72]\n",
      " [36 37 78]\n",
      " [48 18 65]\n",
      " [92 84 25]\n",
      " [12 83 26]\n",
      " [47 67 68]]\n",
      "[[90 57 17]\n",
      " [46 29 85]\n",
      " [40 17 56]\n",
      " [81 72 95]\n",
      " [72 74 81]\n",
      " [78 89 15]\n",
      " [65 14 15]\n",
      " [25 87 46]\n",
      " [26 96 23]\n",
      " [68 44 47]]\n",
      "[[55 90 17]\n",
      " [79 46 85]\n",
      " [30 40 56]\n",
      " [90 81 95]\n",
      " [30 72 81]\n",
      " [36 78 15]\n",
      " [48 65 15]\n",
      " [92 25 46]\n",
      " [12 26 23]\n",
      " [47 68 47]]\n",
      "[[55 90 90]\n",
      " [79 82 46]\n",
      " [30 33 40]\n",
      " [90 89 81]\n",
      " [30 62 72]]\n"
     ]
    }
   ],
   "source": [
    "# 1 column\n",
    "print(a[:,1])\n",
    "# first 3 columns \n",
    "print(a[:,:3])\n",
    "# last 3 columns\n",
    "print(a[:, -3:])\n",
    "# 0,2,4 columns\n",
    "print(a[:,[0,2,4]])\n",
    "# first 5 row, first 3 columns\n",
    "print(a[:5, :3])\n"
   ]
  }
 ],
 "metadata": {
  "kernelspec": {
   "display_name": "base",
   "language": "python",
   "name": "python3"
  },
  "language_info": {
   "codemirror_mode": {
    "name": "ipython",
    "version": 3
   },
   "file_extension": ".py",
   "mimetype": "text/x-python",
   "name": "python",
   "nbconvert_exporter": "python",
   "pygments_lexer": "ipython3",
   "version": "3.9.12"
  },
  "orig_nbformat": 4,
  "vscode": {
   "interpreter": {
    "hash": "a0a89d11f9eeb175628b81767bf4d77fb6234c736d684c4c981a27dc594df852"
   }
  }
 },
 "nbformat": 4,
 "nbformat_minor": 2
}
