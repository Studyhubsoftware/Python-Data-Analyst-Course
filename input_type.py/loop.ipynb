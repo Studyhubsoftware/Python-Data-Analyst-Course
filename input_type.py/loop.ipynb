{
 "cells": [
  {
   "cell_type": "code",
   "execution_count": 1,
   "metadata": {},
   "outputs": [],
   "source": [
    "from turtle import *\n",
    "\n",
    "speed('slow')\n",
    "forward(200)\n",
    "left(90)\n",
    "forward(200)\n",
    "left(90)\n",
    "forward(200)\n",
    "left(90)\n",
    "forward(200)\n",
    "left(90)\n",
    "\n",
    "mainloop() # keep the window open"
   ]
  },
  {
   "cell_type": "code",
   "execution_count": 2,
   "metadata": {},
   "outputs": [
    {
     "ename": "Terminator",
     "evalue": "",
     "output_type": "error",
     "traceback": [
      "\u001b[1;31m---------------------------------------------------------------------------\u001b[0m",
      "\u001b[1;31mTerminator\u001b[0m                                Traceback (most recent call last)",
      "Cell \u001b[1;32mIn[2], line 3\u001b[0m\n\u001b[0;32m      1\u001b[0m \u001b[39mfrom\u001b[39;00m \u001b[39mturtle\u001b[39;00m \u001b[39mimport\u001b[39;00m\u001b[39m*\u001b[39m\n\u001b[1;32m----> 3\u001b[0m speed(\u001b[39m'\u001b[39;49m\u001b[39mslowest\u001b[39;49m\u001b[39m'\u001b[39;49m)\n\u001b[0;32m      4\u001b[0m side \u001b[39m=\u001b[39m \u001b[39m10\u001b[39m\n\u001b[0;32m      5\u001b[0m \u001b[39mfor\u001b[39;00m i \u001b[39min\u001b[39;00m \u001b[39mrange\u001b[39m(side):\n",
      "File \u001b[1;32m<string>:5\u001b[0m, in \u001b[0;36mspeed\u001b[1;34m(speed)\u001b[0m\n",
      "\u001b[1;31mTerminator\u001b[0m: "
     ]
    }
   ],
   "source": [
    "from turtle import*\n",
    "\n",
    "speed('slowest')\n",
    "side = 10\n",
    "for i in range(side):\n",
    "    forward(50)\n",
    "for i in range(4):\n",
    "    forward(50)\n",
    "left(90)\n",
    "left(360//side)\n",
    "mainloop()\n",
    "\n",
    " # keep the window open\n"
   ]
  },
  {
   "cell_type": "code",
   "execution_count": null,
   "metadata": {},
   "outputs": [
    {
     "name": "stdout",
     "output_type": "stream",
     "text": [
      "10\n",
      "ram\n"
     ]
    }
   ],
   "source": [
    "x=10\n",
    "X=\"ram\"\n",
    "print(x)\n",
    "print(X)"
   ]
  }
 ],
 "metadata": {
  "kernelspec": {
   "display_name": "Python 3",
   "language": "python",
   "name": "python3"
  },
  "language_info": {
   "codemirror_mode": {
    "name": "ipython",
    "version": 3
   },
   "file_extension": ".py",
   "mimetype": "text/x-python",
   "name": "python",
   "nbconvert_exporter": "python",
   "pygments_lexer": "ipython3",
   "version": "3.11.0"
  },
  "orig_nbformat": 4,
  "vscode": {
   "interpreter": {
    "hash": "5238573367df39f7286bb46f9ff5f08f63a01a80960060ce41e3c79b190280fa"
   }
  }
 },
 "nbformat": 4,
 "nbformat_minor": 2
}
