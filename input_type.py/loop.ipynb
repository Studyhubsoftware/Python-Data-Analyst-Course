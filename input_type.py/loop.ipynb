{
 "cells": [
  {
   "cell_type": "code",
   "execution_count": null,
   "metadata": {},
   "outputs": [],
   "source": [
    "from turtle import *\n",
    "\n",
    "speed('slow')\n",
    "forward(200)\n",
    "left(90)\n",
    "forward(200)\n",
    "left(90)\n",
    "forward(200)\n",
    "left(90)\n",
    "forward(200)\n",
    "left(90)\n",
    "\n",
    "mainloop() # keep the window open"
   ]
  },
  {
   "cell_type": "code",
   "execution_count": 5,
   "metadata": {},
   "outputs": [],
   "source": [
    "from turtle import*\n",
    "\n",
    "speed('slowest')\n",
    "side = 10\n",
    "for i in range(side):\n",
    "    forward(50)\n",
    "for i in range(4):\n",
    "    forward(50)\n",
    "left(90)\n",
    "left(360//side)\n",
    "mainloop()\n",
    "\n",
    " # keep the window open\n"
   ]
  }
 ],
 "metadata": {
  "kernelspec": {
   "display_name": "Python 3",
   "language": "python",
   "name": "python3"
  },
  "language_info": {
   "codemirror_mode": {
    "name": "ipython",
    "version": 3
   },
   "file_extension": ".py",
   "mimetype": "text/x-python",
   "name": "python",
   "nbconvert_exporter": "python",
   "pygments_lexer": "ipython3",
   "version": "3.11.0 (main, Oct 24 2022, 18:26:48) [MSC v.1933 64 bit (AMD64)]"
  },
  "orig_nbformat": 4,
  "vscode": {
   "interpreter": {
    "hash": "5238573367df39f7286bb46f9ff5f08f63a01a80960060ce41e3c79b190280fa"
   }
  }
 },
 "nbformat": 4,
 "nbformat_minor": 2
}
