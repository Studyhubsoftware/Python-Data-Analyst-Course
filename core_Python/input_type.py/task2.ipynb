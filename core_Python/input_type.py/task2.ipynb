{
 "cells": [
  {
   "cell_type": "code",
   "execution_count": 31,
   "metadata": {},
   "outputs": [
    {
     "name": "stdout",
     "output_type": "stream",
     "text": [
      "{'c': 300, 'b': 400, 'd': 300, 'a': 400}\n"
     ]
    }
   ],
   "source": [
    "#Wap to combine two dictionary adding values for common keys.\n",
    "d1 = {'a':100, 'b' :200, 'c' :300}\n",
    "d2 = {'a':300, 'b' :200, 'd' :300}\n",
    "d = {k: d1.get(k, 0) + d2.get(k, 0) for k in d1.keys()| d2.keys()}\n",
    "print(d)\n",
    "\n",
    "\n"
   ]
  },
  {
   "cell_type": "code",
   "execution_count": 38,
   "metadata": {},
   "outputs": [
    {
     "name": "stdout",
     "output_type": "stream",
     "text": [
      "{'a': 400, 'b': 400, 'c': 300, 'd': 300}\n"
     ]
    }
   ],
   "source": [
    "#Wap to combine two dictionary adding values for common keys.\n",
    "d1 = {'a':100, 'b' :200, 'c' :300}\n",
    "d2 = {'a':300, 'b' :200, 'd' :300}\n",
    "d3 = dict(d1)\n",
    "d3.update(d2)\n",
    "for i, j in d1. items():\n",
    "    for x, y in d2.items():\n",
    "        if i == x:\n",
    "            d3[i]=(j+y)\n",
    "print(d3)            \n"
   ]
  },
  {
   "cell_type": "code",
   "execution_count": 40,
   "metadata": {},
   "outputs": [
    {
     "name": "stdout",
     "output_type": "stream",
     "text": [
      "{'a': 1, 'p': 2, 'l': 1, 'e': 1}\n"
     ]
    }
   ],
   "source": [
    "#Wap to creat a dictionary from a string.Track the count of the letters from the string\n",
    "input_string = \"apple\"\n",
    "my_dict = {}\n",
    "for letter in input_string:\n",
    "    my_dict[letter] = my_dict.get(letter, 0) + 1\n",
    "print(my_dict)    "
   ]
  },
  {
   "cell_type": "code",
   "execution_count": 6,
   "metadata": {},
   "outputs": [
    {
     "name": "stdout",
     "output_type": "stream",
     "text": [
      "Original Dictionary:\n",
      "{'c1': 'Red', 'c2': 'Green', 'c3': None, 'c4': None}\n",
      "New Dictionary after dropping empty items:\n",
      "{'c1': 'Red', 'c2': 'Green'}\n"
     ]
    }
   ],
   "source": [
    "#Wap drop empty items from a given Dictionary\n",
    "d = {'c1': 'Red','c2': 'Green','c3':None,'c4':None}\n",
    "print(\"Original Dictionary:\")\n",
    "print(d)\n",
    "print(\"New Dictionary after dropping empty items:\")\n",
    "d = {key:value for (key, value) in d.items() if value is not None}\n",
    "print(d)"
   ]
  },
  {
   "cell_type": "code",
   "execution_count": null,
   "metadata": {},
   "outputs": [],
   "source": [
    "d = {'c1': 'Red','c2': 'Green','c3': None,'c4': None}\n",
    "clean_x = {}\n",
    "for k,v in x.items():\n",
    "    if v is not None:\n",
    "        clean_x[k] = v\n",
    "print(clean_x)\n",
    "print(d)        "
   ]
  }
 ],
 "metadata": {
  "kernelspec": {
   "display_name": "Python 3",
   "language": "python",
   "name": "python3"
  },
  "language_info": {
   "codemirror_mode": {
    "name": "ipython",
    "version": 3
   },
   "file_extension": ".py",
   "mimetype": "text/x-python",
   "name": "python",
   "nbconvert_exporter": "python",
   "pygments_lexer": "ipython3",
   "version": "3.11.0 (main, Oct 24 2022, 18:26:48) [MSC v.1933 64 bit (AMD64)]"
  },
  "orig_nbformat": 4,
  "vscode": {
   "interpreter": {
    "hash": "5238573367df39f7286bb46f9ff5f08f63a01a80960060ce41e3c79b190280fa"
   }
  }
 },
 "nbformat": 4,
 "nbformat_minor": 2
}
